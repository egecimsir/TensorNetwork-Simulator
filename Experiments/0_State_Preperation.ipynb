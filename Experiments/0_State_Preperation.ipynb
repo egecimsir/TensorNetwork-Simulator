{
 "cells": [
  {
   "cell_type": "code",
   "id": "initial_id",
   "metadata": {
    "collapsed": true,
    "ExecuteTime": {
     "end_time": "2024-09-22T14:57:59.887103Z",
     "start_time": "2024-09-22T14:57:59.533127Z"
    }
   },
   "source": [
    "import numpy as np\n",
    "import matplotlib.pyplot as plt\n",
    "\n",
    "from TensorNetwork import TensorNetwork as TN\n",
    "from QFTMPO import QFTMPO\n",
    "from prepare_network import *"
   ],
   "outputs": [],
   "execution_count": 1
  },
  {
   "metadata": {},
   "cell_type": "markdown",
   "source": "# Entangled States Preperation",
   "id": "8404fbfb69af83e0"
  },
  {
   "metadata": {},
   "cell_type": "markdown",
   "source": "### Entangling layers applied up to given depth",
   "id": "eb9f9afe2a2c526a"
  },
  {
   "metadata": {
    "ExecuteTime": {
     "end_time": "2024-09-22T14:58:57.362594Z",
     "start_time": "2024-09-22T14:58:57.338899Z"
    }
   },
   "cell_type": "code",
   "source": [
    "mps, t = prepare_entangled_state(8, depth=3)\n",
    "print(f\"Runtime: {t:.3f} ms\")\n",
    "print(f\"Bond-dims: {mps.get_bond_dims()}\")"
   ],
   "id": "c9db47a671cf4329",
   "outputs": [
    {
     "name": "stdout",
     "output_type": "stream",
     "text": [
      "Runtime: 5.557 ms\n",
      "Bond-dims: (2, 4, 8, 16, 8, 4, 2)\n"
     ]
    }
   ],
   "execution_count": 2
  },
  {
   "metadata": {
    "ExecuteTime": {
     "end_time": "2024-09-22T14:59:08.303213Z",
     "start_time": "2024-09-22T14:59:08.186494Z"
    }
   },
   "cell_type": "code",
   "source": [
    "mps, t = prepare_entangled_state(8, depth=300)\n",
    "print(f\"Runtime: {t:.3f} ms\")\n",
    "print(f\"Bond-dims: {mps.get_bond_dims()}\")"
   ],
   "id": "e527838745d01a5d",
   "outputs": [
    {
     "name": "stdout",
     "output_type": "stream",
     "text": [
      "Runtime: 108.517 ms\n",
      "Bond-dims: (2, 4, 8, 16, 8, 4, 2)\n"
     ]
    }
   ],
   "execution_count": 3
  },
  {
   "metadata": {
    "ExecuteTime": {
     "end_time": "2024-09-22T14:59:22.755735Z",
     "start_time": "2024-09-22T14:59:22.704859Z"
    }
   },
   "cell_type": "code",
   "source": [
    "mps, t = prepare_entangled_state(12, depth=3)\n",
    "print(f\"Runtime: {t:.3f} ms\")\n",
    "print(f\"Bond-dims: {mps.get_bond_dims()}\")"
   ],
   "id": "3907af368ea52865",
   "outputs": [
    {
     "name": "stdout",
     "output_type": "stream",
     "text": [
      "Runtime: 35.861 ms\n",
      "Bond-dims: (2, 4, 8, 16, 32, 64, 32, 16, 8, 4, 2)\n"
     ]
    }
   ],
   "execution_count": 4
  },
  {
   "metadata": {
    "ExecuteTime": {
     "end_time": "2024-09-22T14:59:34.394772Z",
     "start_time": "2024-09-22T14:59:32.188947Z"
    }
   },
   "cell_type": "code",
   "source": [
    "mps, t = prepare_entangled_state(12, depth=300)\n",
    "print(f\"Runtime: {t:.3f} ms\")\n",
    "print(f\"Bond-dims: {mps.get_bond_dims()}\")"
   ],
   "id": "ac948f8e66dcd77a",
   "outputs": [
    {
     "name": "stdout",
     "output_type": "stream",
     "text": [
      "Runtime: 2197.059 ms\n",
      "Bond-dims: (2, 4, 8, 16, 32, 64, 32, 16, 8, 4, 2)\n"
     ]
    }
   ],
   "execution_count": 5
  },
  {
   "metadata": {},
   "cell_type": "markdown",
   "source": [
    "### Absolutely Maximally Entangled (AME) State\n",
    "DOI: 10.1103/PhysRevA.100.022342"
   ],
   "id": "6c6c0d8643b87033"
  },
  {
   "metadata": {
    "ExecuteTime": {
     "end_time": "2024-09-22T15:00:30.244405Z",
     "start_time": "2024-09-22T15:00:30.219364Z"
    }
   },
   "cell_type": "code",
   "source": [
    "mps, t = prepare_AME_state(8)\n",
    "print(f\"Runtime: {t:.3f} ms\")\n",
    "print(f\"Bond-dims: {mps.get_bond_dims()}\")"
   ],
   "id": "7765a817bbc89588",
   "outputs": [
    {
     "name": "stdout",
     "output_type": "stream",
     "text": [
      "Runtime: 17.556 ms\n",
      "Bond-dims: (2, 4, 8, 8, 8, 4, 2)\n"
     ]
    }
   ],
   "execution_count": 6
  },
  {
   "metadata": {
    "ExecuteTime": {
     "end_time": "2024-09-22T15:00:37.402412Z",
     "start_time": "2024-09-22T15:00:37.393969Z"
    }
   },
   "cell_type": "code",
   "source": [
    "mps, t = prepare_AME_state(12)\n",
    "print(f\"Runtime: {t:.3f} ms\")\n",
    "print(f\"Bond-dims: {mps.get_bond_dims()}\")"
   ],
   "id": "6b93bc7f491e1e96",
   "outputs": [
    {
     "name": "stdout",
     "output_type": "stream",
     "text": [
      "Runtime: 3.576 ms\n",
      "Bond-dims: (2, 4, 8, 8, 8, 8, 8, 8, 8, 4, 2)\n"
     ]
    }
   ],
   "execution_count": 7
  },
  {
   "metadata": {},
   "cell_type": "code",
   "outputs": [],
   "execution_count": null,
   "source": "",
   "id": "b54aeeb487de9694"
  }
 ],
 "metadata": {
  "kernelspec": {
   "display_name": "Python 3",
   "language": "python",
   "name": "python3"
  },
  "language_info": {
   "codemirror_mode": {
    "name": "ipython",
    "version": 2
   },
   "file_extension": ".py",
   "mimetype": "text/x-python",
   "name": "python",
   "nbconvert_exporter": "python",
   "pygments_lexer": "ipython2",
   "version": "2.7.6"
  }
 },
 "nbformat": 4,
 "nbformat_minor": 5
}
