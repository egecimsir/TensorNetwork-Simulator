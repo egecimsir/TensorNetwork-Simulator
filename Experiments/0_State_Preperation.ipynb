{
 "cells": [
  {
   "cell_type": "code",
   "id": "initial_id",
   "metadata": {
    "collapsed": true,
    "ExecuteTime": {
     "end_time": "2024-09-23T04:10:29.400936Z",
     "start_time": "2024-09-23T04:10:28.974370Z"
    }
   },
   "source": [
    "import numpy as np\n",
    "import matplotlib.pyplot as plt\n",
    "\n",
    "from TensorNetwork import TensorNetwork as TN\n",
    "from QFTMPO import QFTMPO\n",
    "from prepare_network import *"
   ],
   "outputs": [],
   "execution_count": 1
  },
  {
   "metadata": {},
   "cell_type": "markdown",
   "source": "# Entangled States Preperation",
   "id": "8404fbfb69af83e0"
  },
  {
   "metadata": {},
   "cell_type": "markdown",
   "source": "### Entangling layers applied up to given depth",
   "id": "eb9f9afe2a2c526a"
  },
  {
   "metadata": {
    "ExecuteTime": {
     "end_time": "2024-09-23T04:10:30.266311Z",
     "start_time": "2024-09-23T04:10:30.259442Z"
    }
   },
   "cell_type": "code",
   "source": [
    "mps, t = prepare_entangled_state(8, depth=3)\n",
    "print(f\"Runtime: {t:.3f} ms\")\n",
    "print(f\"Bond-dims: {mps.get_bond_dims()}\")"
   ],
   "id": "c9db47a671cf4329",
   "outputs": [
    {
     "name": "stdout",
     "output_type": "stream",
     "text": [
      "Runtime: 3.152 ms\n",
      "Bond-dims: (2, 4, 8, 16, 8, 4, 2)\n"
     ]
    }
   ],
   "execution_count": 2
  },
  {
   "metadata": {
    "ExecuteTime": {
     "end_time": "2024-09-23T04:10:30.801324Z",
     "start_time": "2024-09-23T04:10:30.698732Z"
    }
   },
   "cell_type": "code",
   "source": [
    "mps, t = prepare_entangled_state(8, depth=300)\n",
    "print(f\"Runtime: {t:.3f} ms\")\n",
    "print(f\"Bond-dims: {mps.get_bond_dims()}\")"
   ],
   "id": "e527838745d01a5d",
   "outputs": [
    {
     "name": "stdout",
     "output_type": "stream",
     "text": [
      "Runtime: 100.244 ms\n",
      "Bond-dims: (2, 4, 8, 16, 8, 4, 2)\n"
     ]
    }
   ],
   "execution_count": 3
  },
  {
   "metadata": {
    "ExecuteTime": {
     "end_time": "2024-09-23T04:10:31.445768Z",
     "start_time": "2024-09-23T04:10:31.368990Z"
    }
   },
   "cell_type": "code",
   "source": [
    "mps, t = prepare_entangled_state(12, depth=3)\n",
    "print(f\"Runtime: {t:.3f} ms\")\n",
    "print(f\"Bond-dims: {mps.get_bond_dims()}\")"
   ],
   "id": "3907af368ea52865",
   "outputs": [
    {
     "name": "stdout",
     "output_type": "stream",
     "text": [
      "Runtime: 44.250 ms\n",
      "Bond-dims: (2, 4, 8, 16, 32, 64, 32, 16, 8, 4, 2)\n"
     ]
    }
   ],
   "execution_count": 4
  },
  {
   "metadata": {
    "ExecuteTime": {
     "end_time": "2024-09-23T04:10:34.345883Z",
     "start_time": "2024-09-23T04:10:31.977531Z"
    }
   },
   "cell_type": "code",
   "source": [
    "mps, t = prepare_entangled_state(12, depth=300)\n",
    "print(f\"Runtime: {t:.3f} ms\")\n",
    "print(f\"Bond-dims: {mps.get_bond_dims()}\")"
   ],
   "id": "ac948f8e66dcd77a",
   "outputs": [
    {
     "name": "stdout",
     "output_type": "stream",
     "text": [
      "Runtime: 2358.824 ms\n",
      "Bond-dims: (2, 4, 8, 16, 32, 64, 32, 16, 8, 4, 2)\n"
     ]
    }
   ],
   "execution_count": 5
  },
  {
   "metadata": {},
   "cell_type": "markdown",
   "source": [
    "### Absolutely Maximally Entangled (AME) State\n",
    "DOI: 10.1103/PhysRevA.100.022342"
   ],
   "id": "6c6c0d8643b87033"
  },
  {
   "metadata": {
    "ExecuteTime": {
     "end_time": "2024-09-23T04:10:34.982450Z",
     "start_time": "2024-09-23T04:10:34.975771Z"
    }
   },
   "cell_type": "code",
   "source": [
    "mps, t = prepare_AME_state(8)\n",
    "print(f\"Runtime: {t:.3f} ms\")\n",
    "print(f\"Bond-dims: {mps.get_bond_dims()}\")"
   ],
   "id": "7765a817bbc89588",
   "outputs": [
    {
     "name": "stdout",
     "output_type": "stream",
     "text": [
      "Runtime: 2.857 ms\n",
      "Bond-dims: (2, 4, 8, 8, 8, 4, 2)\n"
     ]
    }
   ],
   "execution_count": 6
  },
  {
   "metadata": {
    "ExecuteTime": {
     "end_time": "2024-09-23T04:10:35.637871Z",
     "start_time": "2024-09-23T04:10:35.629643Z"
    }
   },
   "cell_type": "code",
   "source": [
    "mps, t = prepare_AME_state(12)\n",
    "print(f\"Runtime: {t:.3f} ms\")\n",
    "print(f\"Bond-dims: {mps.get_bond_dims()}\")"
   ],
   "id": "6b93bc7f491e1e96",
   "outputs": [
    {
     "name": "stdout",
     "output_type": "stream",
     "text": [
      "Runtime: 4.405 ms\n",
      "Bond-dims: (2, 4, 8, 8, 8, 8, 8, 8, 8, 4, 2)\n"
     ]
    }
   ],
   "execution_count": 7
  },
  {
   "metadata": {},
   "cell_type": "markdown",
   "source": "## Entangled states for Experiment-2",
   "id": "a75b8015189a2d5c"
  },
  {
   "metadata": {
    "ExecuteTime": {
     "end_time": "2024-09-23T04:10:36.691121Z",
     "start_time": "2024-09-23T04:10:36.661985Z"
    }
   },
   "cell_type": "code",
   "source": [
    "N = (4, 6, 8, 10, 12, 14, 16)\n",
    "states = [prepare_entangled_state(N=n)[0] for n in N]\n",
    "\n",
    "for state in states:\n",
    "    print(f\"N={len(state)}: {state.get_bond_dims()} \\t, max. bond = {max(state.get_bond_dims())}\")"
   ],
   "id": "85209a81a303da8b",
   "outputs": [
    {
     "name": "stdout",
     "output_type": "stream",
     "text": [
      "N=4: (2, 4, 2) \t, max. bond = 4\n",
      "N=6: (2, 4, 8, 4, 2) \t, max. bond = 8\n",
      "N=8: (2, 4, 8, 16, 8, 4, 2) \t, max. bond = 16\n",
      "N=10: (2, 4, 8, 16, 8, 16, 8, 4, 2) \t, max. bond = 16\n",
      "N=12: (2, 4, 8, 16, 8, 16, 8, 16, 8, 4, 2) \t, max. bond = 16\n",
      "N=14: (2, 4, 8, 16, 8, 16, 8, 16, 8, 16, 8, 4, 2) \t, max. bond = 16\n",
      "N=16: (2, 4, 8, 16, 8, 16, 8, 16, 8, 16, 8, 16, 8, 4, 2) \t, max. bond = 16\n"
     ]
    }
   ],
   "execution_count": 8
  },
  {
   "metadata": {},
   "cell_type": "markdown",
   "source": "## Entangled states for Experiment-3",
   "id": "1cc684f910812cdd"
  },
  {
   "metadata": {},
   "cell_type": "code",
   "outputs": [],
   "execution_count": null,
   "source": "",
   "id": "e756f61fd06bc0e"
  }
 ],
 "metadata": {
  "kernelspec": {
   "display_name": "Python 3",
   "language": "python",
   "name": "python3"
  },
  "language_info": {
   "codemirror_mode": {
    "name": "ipython",
    "version": 2
   },
   "file_extension": ".py",
   "mimetype": "text/x-python",
   "name": "python",
   "nbconvert_exporter": "python",
   "pygments_lexer": "ipython2",
   "version": "2.7.6"
  }
 },
 "nbformat": 4,
 "nbformat_minor": 5
}
