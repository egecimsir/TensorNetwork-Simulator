{
 "cells": [
  {
   "cell_type": "code",
   "execution_count": 1,
   "id": "933b9664",
   "metadata": {
    "ExecuteTime": {
     "end_time": "2024-03-20T22:06:15.169155Z",
     "start_time": "2024-03-20T22:06:15.099554Z"
    }
   },
   "outputs": [],
   "source": [
    "import numpy as np\n",
    "from TensorNetworks import *"
   ]
  },
  {
   "cell_type": "code",
   "execution_count": 2,
   "id": "fe068417",
   "metadata": {
    "ExecuteTime": {
     "end_time": "2024-03-20T22:06:15.518350Z",
     "start_time": "2024-03-20T22:06:15.515955Z"
    }
   },
   "outputs": [],
   "source": [
    "qc = MPS(3, 3)\n",
    "\n",
    "cx = MPS.MultiGates[\"CX\"]\n",
    "h = MPS.SingleGates[\"H\"]\n",
    "q = qc.tensors[1]"
   ]
  },
  {
   "cell_type": "code",
   "execution_count": 3,
   "id": "ef4e838f",
   "metadata": {
    "ExecuteTime": {
     "end_time": "2024-03-20T22:06:15.942308Z",
     "start_time": "2024-03-20T22:06:15.937031Z"
    }
   },
   "outputs": [
    {
     "data": {
      "text/plain": "QuantumCircuit(3)\n\n[[[1.+0.j]]\n\n [[0.+0.j]]]\n\n\n[[[0.+0.j]]\n\n [[1.+0.j]]]\n\n\n[[[1.+0.j]]\n\n [[0.+0.j]]]\n"
     },
     "execution_count": 3,
     "metadata": {},
     "output_type": "execute_result"
    }
   ],
   "source": [
    "qc.initialize((0,1,0))\n",
    "qc"
   ]
  },
  {
   "cell_type": "code",
   "execution_count": 4,
   "id": "869b108824e30d21",
   "metadata": {
    "collapsed": false,
    "ExecuteTime": {
     "end_time": "2024-03-20T22:06:22.641849Z",
     "start_time": "2024-03-20T22:06:22.636253Z"
    }
   },
   "outputs": [
    {
     "data": {
      "text/plain": "array([[[[ 0.+0.j, -0.-1.j],\n         [ 0.+0.j,  0.+0.j]],\n\n        [[ 0.+1.j,  0.+0.j],\n         [ 0.+0.j,  0.+0.j]]],\n\n\n       [[[ 0.+0.j,  0.+0.j],\n         [ 1.+0.j,  0.+0.j]],\n\n        [[ 0.+0.j,  0.+0.j],\n         [ 0.+0.j,  1.+0.j]]]])"
     },
     "execution_count": 4,
     "metadata": {},
     "output_type": "execute_result"
    }
   ],
   "source": [
    "MPS.createControlledUnitary(\"Y\")"
   ]
  },
  {
   "cell_type": "code",
   "outputs": [
    {
     "data": {
      "text/plain": "dict_keys(['X', 'Y', 'Z', 'H'])"
     },
     "execution_count": 5,
     "metadata": {},
     "output_type": "execute_result"
    }
   ],
   "source": [
    "MPS.SingleGates.keys()"
   ],
   "metadata": {
    "collapsed": false,
    "ExecuteTime": {
     "end_time": "2024-03-20T22:06:24.470611Z",
     "start_time": "2024-03-20T22:06:24.464352Z"
    }
   },
   "id": "ff2b634c7a65880e",
   "execution_count": 5
  },
  {
   "cell_type": "code",
   "outputs": [
    {
     "data": {
      "text/plain": "dict_keys(['CX', 'SWAP', 'CY'])"
     },
     "execution_count": 6,
     "metadata": {},
     "output_type": "execute_result"
    }
   ],
   "source": [
    "MPS.MultiGates.keys()"
   ],
   "metadata": {
    "collapsed": false,
    "ExecuteTime": {
     "end_time": "2024-03-20T22:06:27.305015Z",
     "start_time": "2024-03-20T22:06:27.299517Z"
    }
   },
   "id": "3fee133b4af4e233",
   "execution_count": 6
  },
  {
   "cell_type": "code",
   "outputs": [],
   "source": [
    "sin = np.sin\n",
    "cos = np.cos"
   ],
   "metadata": {
    "collapsed": false,
    "ExecuteTime": {
     "end_time": "2024-03-20T22:24:25.684724Z",
     "start_time": "2024-03-20T22:24:25.669243Z"
    }
   },
   "id": "79bbe1f70c0d3958",
   "execution_count": 7
  },
  {
   "cell_type": "code",
   "outputs": [
    {
     "data": {
      "text/plain": "<ufunc 'cos'>"
     },
     "execution_count": 8,
     "metadata": {},
     "output_type": "execute_result"
    }
   ],
   "source": [
    "cos"
   ],
   "metadata": {
    "collapsed": false,
    "ExecuteTime": {
     "end_time": "2024-03-20T22:24:27.831113Z",
     "start_time": "2024-03-20T22:24:27.826629Z"
    }
   },
   "id": "680b92709fa9addf",
   "execution_count": 8
  },
  {
   "cell_type": "code",
   "outputs": [
    {
     "data": {
      "text/plain": "1.0"
     },
     "execution_count": 9,
     "metadata": {},
     "output_type": "execute_result"
    }
   ],
   "source": [
    "cos(0)"
   ],
   "metadata": {
    "collapsed": false,
    "ExecuteTime": {
     "end_time": "2024-03-20T22:24:31.931524Z",
     "start_time": "2024-03-20T22:24:31.925545Z"
    }
   },
   "id": "38af0b4d1507e1a1",
   "execution_count": 9
  },
  {
   "cell_type": "code",
   "outputs": [
    {
     "data": {
      "text/plain": "55"
     },
     "execution_count": 10,
     "metadata": {},
     "output_type": "execute_result"
    }
   ],
   "source": [
    "def gate():\n",
    "    return 55\n",
    "\n",
    "gate()"
   ],
   "metadata": {
    "collapsed": false,
    "ExecuteTime": {
     "end_time": "2024-03-20T22:46:05.336447Z",
     "start_time": "2024-03-20T22:46:05.330630Z"
    }
   },
   "id": "9edc68b000defc9a",
   "execution_count": 10
  },
  {
   "cell_type": "code",
   "outputs": [
    {
     "data": {
      "text/plain": "{}"
     },
     "execution_count": 11,
     "metadata": {},
     "output_type": "execute_result"
    }
   ],
   "source": [
    "d = {}\n",
    "d"
   ],
   "metadata": {
    "collapsed": false,
    "ExecuteTime": {
     "end_time": "2024-03-20T22:46:19.574524Z",
     "start_time": "2024-03-20T22:46:19.567945Z"
    }
   },
   "id": "114223a908028fc5",
   "execution_count": 11
  },
  {
   "cell_type": "code",
   "outputs": [],
   "source": [
    "d[5] = gate()"
   ],
   "metadata": {
    "collapsed": false,
    "ExecuteTime": {
     "end_time": "2024-03-20T22:46:37.987345Z",
     "start_time": "2024-03-20T22:46:37.982463Z"
    }
   },
   "id": "626aa2169292fd7e",
   "execution_count": 12
  },
  {
   "cell_type": "code",
   "outputs": [
    {
     "data": {
      "text/plain": "55"
     },
     "execution_count": 13,
     "metadata": {},
     "output_type": "execute_result"
    }
   ],
   "source": [
    "d[5]"
   ],
   "metadata": {
    "collapsed": false,
    "ExecuteTime": {
     "end_time": "2024-03-20T22:46:43.914680Z",
     "start_time": "2024-03-20T22:46:43.910017Z"
    }
   },
   "id": "cec59f0a63093ba5",
   "execution_count": 13
  },
  {
   "cell_type": "code",
   "outputs": [],
   "source": [],
   "metadata": {
    "collapsed": false
   },
   "id": "38af180f5990228b"
  }
 ],
 "metadata": {
  "kernelspec": {
   "display_name": "Python 3 (ipykernel)",
   "language": "python",
   "name": "python3"
  },
  "language_info": {
   "codemirror_mode": {
    "name": "ipython",
    "version": 3
   },
   "file_extension": ".py",
   "mimetype": "text/x-python",
   "name": "python",
   "nbconvert_exporter": "python",
   "pygments_lexer": "ipython3",
   "version": "3.9.6"
  }
 },
 "nbformat": 4,
 "nbformat_minor": 5
}
