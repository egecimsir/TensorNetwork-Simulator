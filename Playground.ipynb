{
 "cells": [
  {
   "cell_type": "code",
   "execution_count": 1,
   "id": "933b9664",
   "metadata": {
    "ExecuteTime": {
     "end_time": "2024-03-24T18:29:24.954765Z",
     "start_time": "2024-03-24T18:29:24.731184Z"
    }
   },
   "outputs": [],
   "source": [
    "import numpy as np\n",
    "from MatrixProductState import *"
   ]
  },
  {
   "cell_type": "code",
   "outputs": [
    {
     "data": {
      "text/plain": "QuantumCircuit(3)\n\n[[1.+0.j]\n [0.+0.j]]\n\n\n[[[1.+0.j]]\n\n [[0.+0.j]]]\n\n\n[[1.+0.j]\n [0.+0.j]]\n"
     },
     "execution_count": 2,
     "metadata": {},
     "output_type": "execute_result"
    }
   ],
   "source": [
    "qc = MPS(3)\n",
    "qc"
   ],
   "metadata": {
    "collapsed": false,
    "ExecuteTime": {
     "end_time": "2024-03-24T18:29:25.057951Z",
     "start_time": "2024-03-24T18:29:25.051028Z"
    }
   },
   "id": "c65d21e6e0c533f3",
   "execution_count": 2
  },
  {
   "cell_type": "code",
   "outputs": [
    {
     "name": "stdout",
     "output_type": "stream",
     "text": [
      "[[1.+0.j]\n",
      " [0.+0.j]]\n",
      "\n",
      "[[[1.+0.j]]\n",
      "\n",
      " [[0.+0.j]]]\n",
      "\n",
      "[[1.+0.j]\n",
      " [0.+0.j]]\n"
     ]
    }
   ],
   "source": [
    "print(qc)"
   ],
   "metadata": {
    "collapsed": false,
    "ExecuteTime": {
     "end_time": "2024-03-24T18:29:26.152717Z",
     "start_time": "2024-03-24T18:29:26.147305Z"
    }
   },
   "id": "ea351876414e7f29",
   "execution_count": 3
  },
  {
   "cell_type": "code",
   "outputs": [
    {
     "data": {
      "text/plain": "[0, 1, 2, 3, 4]"
     },
     "execution_count": 4,
     "metadata": {},
     "output_type": "execute_result"
    }
   ],
   "source": [
    "nums = list(range(5))\n",
    "nums"
   ],
   "metadata": {
    "collapsed": false,
    "ExecuteTime": {
     "end_time": "2024-03-24T18:29:26.852054Z",
     "start_time": "2024-03-24T18:29:26.846749Z"
    }
   },
   "id": "78e497eb8c4f23bc",
   "execution_count": 4
  },
  {
   "cell_type": "code",
   "outputs": [
    {
     "data": {
      "text/plain": "[1, 2, 3]"
     },
     "execution_count": 5,
     "metadata": {},
     "output_type": "execute_result"
    }
   ],
   "source": [
    "[i for i in range(1, len(nums)-1)]"
   ],
   "metadata": {
    "collapsed": false,
    "ExecuteTime": {
     "end_time": "2024-03-24T18:29:27.448567Z",
     "start_time": "2024-03-24T18:29:27.443478Z"
    }
   },
   "id": "1dce095657f1e7ba",
   "execution_count": 5
  },
  {
   "cell_type": "code",
   "outputs": [
    {
     "data": {
      "text/plain": "[1, 2, 3]"
     },
     "execution_count": 6,
     "metadata": {},
     "output_type": "execute_result"
    }
   ],
   "source": [
    "nums[1: 5-1]"
   ],
   "metadata": {
    "collapsed": false,
    "ExecuteTime": {
     "end_time": "2024-03-24T18:29:28.436130Z",
     "start_time": "2024-03-24T18:29:28.431633Z"
    }
   },
   "id": "4264a285d37ee0e8",
   "execution_count": 6
  },
  {
   "cell_type": "code",
   "outputs": [
    {
     "name": "stdout",
     "output_type": "stream",
     "text": [
      "[6 6]\n",
      "[6 6]\n"
     ]
    },
    {
     "data": {
      "text/plain": "array([6, 6])"
     },
     "execution_count": 7,
     "metadata": {},
     "output_type": "execute_result"
    }
   ],
   "source": [
    "a = np.array([[1, 2], \n",
    "              [3, 4]])\n",
    "a = np.array([1, 2])\n",
    "b = np.array([[2, 2], \n",
    "              [2, 2]])\n",
    "\n",
    "print(a.dot(b))\n",
    "print(np.matmul(a, b))\n",
    "a @ b"
   ],
   "metadata": {
    "collapsed": false,
    "ExecuteTime": {
     "end_time": "2024-03-24T18:29:28.753624Z",
     "start_time": "2024-03-24T18:29:28.744349Z"
    }
   },
   "id": "19f7f33e93931813",
   "execution_count": 7
  },
  {
   "cell_type": "code",
   "outputs": [
    {
     "data": {
      "text/plain": "array([[1., 0.],\n       [0., 1.]])"
     },
     "execution_count": 8,
     "metadata": {},
     "output_type": "execute_result"
    }
   ],
   "source": [
    "np.eye(2)"
   ],
   "metadata": {
    "collapsed": false,
    "ExecuteTime": {
     "end_time": "2024-03-24T18:29:29.923749Z",
     "start_time": "2024-03-24T18:29:29.917199Z"
    }
   },
   "id": "15aa7609c62dae01",
   "execution_count": 8
  },
  {
   "cell_type": "code",
   "outputs": [
    {
     "data": {
      "text/plain": "True"
     },
     "execution_count": 11,
     "metadata": {},
     "output_type": "execute_result"
    }
   ],
   "source": [
    "np.all([True, True, True])"
   ],
   "metadata": {
    "collapsed": false,
    "ExecuteTime": {
     "end_time": "2024-03-24T18:29:54.035946Z",
     "start_time": "2024-03-24T18:29:54.032650Z"
    }
   },
   "id": "4fc4469165d92f8e",
   "execution_count": 11
  },
  {
   "cell_type": "code",
   "outputs": [],
   "source": [],
   "metadata": {
    "collapsed": false
   },
   "id": "ba0e8fa343eab555"
  }
 ],
 "metadata": {
  "kernelspec": {
   "display_name": "Python 3 (ipykernel)",
   "language": "python",
   "name": "python3"
  },
  "language_info": {
   "codemirror_mode": {
    "name": "ipython",
    "version": 3
   },
   "file_extension": ".py",
   "mimetype": "text/x-python",
   "name": "python",
   "nbconvert_exporter": "python",
   "pygments_lexer": "ipython3",
   "version": "3.9.6"
  }
 },
 "nbformat": 4,
 "nbformat_minor": 5
}
