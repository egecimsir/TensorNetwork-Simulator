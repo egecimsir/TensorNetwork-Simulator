{
 "cells": [
  {
   "cell_type": "code",
   "execution_count": 1,
   "id": "933b9664",
   "metadata": {
    "ExecuteTime": {
     "end_time": "2024-03-23T15:57:30.292986Z",
     "start_time": "2024-03-23T15:57:30.084075Z"
    }
   },
   "outputs": [],
   "source": [
    "import numpy as np\n",
    "from TensorNetworks import *"
   ]
  },
  {
   "cell_type": "code",
   "execution_count": 2,
   "id": "fe068417",
   "metadata": {
    "ExecuteTime": {
     "end_time": "2024-03-23T15:57:30.957961Z",
     "start_time": "2024-03-23T15:57:30.954674Z"
    }
   },
   "outputs": [],
   "source": [
    "qc = MPS(3, 3)\n",
    "\n",
    "cx = MPS.MultiGates[\"CX\"]\n",
    "h = MPS.SingleGates[\"H\"]\n",
    "q = qc.tensors[1]"
   ]
  },
  {
   "cell_type": "code",
   "execution_count": 3,
   "id": "ef4e838f",
   "metadata": {
    "ExecuteTime": {
     "end_time": "2024-03-23T15:57:32.164891Z",
     "start_time": "2024-03-23T15:57:32.156722Z"
    }
   },
   "outputs": [
    {
     "data": {
      "text/plain": "QuantumCircuit(3)\n\n[[[1.+0.j]]\n\n [[0.+0.j]]]\n\n\n[[[0.+0.j]]\n\n [[1.+0.j]]]\n\n\n[[[1.+0.j]]\n\n [[0.+0.j]]]\n"
     },
     "execution_count": 3,
     "metadata": {},
     "output_type": "execute_result"
    }
   ],
   "source": [
    "qc.initialize((0,1,0))\n",
    "qc"
   ]
  },
  {
   "cell_type": "code",
   "execution_count": 4,
   "id": "869b108824e30d21",
   "metadata": {
    "collapsed": false,
    "ExecuteTime": {
     "end_time": "2024-03-23T15:57:33.236868Z",
     "start_time": "2024-03-23T15:57:33.231738Z"
    }
   },
   "outputs": [
    {
     "data": {
      "text/plain": "array([[[[ 0.+0.j, -0.-1.j],\n         [ 0.+0.j,  0.+0.j]],\n\n        [[ 0.+1.j,  0.+0.j],\n         [ 0.+0.j,  0.+0.j]]],\n\n\n       [[[ 0.+0.j,  0.+0.j],\n         [ 1.+0.j,  0.+0.j]],\n\n        [[ 0.+0.j,  0.+0.j],\n         [ 0.+0.j,  1.+0.j]]]])"
     },
     "execution_count": 4,
     "metadata": {},
     "output_type": "execute_result"
    }
   ],
   "source": [
    "MPS.createControlledUnitary(\"Y\")"
   ]
  },
  {
   "cell_type": "code",
   "outputs": [
    {
     "data": {
      "text/plain": "dict_keys(['X', 'Y', 'Z', 'H'])"
     },
     "execution_count": 5,
     "metadata": {},
     "output_type": "execute_result"
    }
   ],
   "source": [
    "MPS.SingleGates.keys()"
   ],
   "metadata": {
    "collapsed": false,
    "ExecuteTime": {
     "end_time": "2024-03-23T15:57:34.418858Z",
     "start_time": "2024-03-23T15:57:34.411821Z"
    }
   },
   "id": "ff2b634c7a65880e",
   "execution_count": 5
  },
  {
   "cell_type": "code",
   "outputs": [
    {
     "data": {
      "text/plain": "dict_keys(['CX', 'SWAP', 'CY'])"
     },
     "execution_count": 6,
     "metadata": {},
     "output_type": "execute_result"
    }
   ],
   "source": [
    "MPS.MultiGates.keys()"
   ],
   "metadata": {
    "collapsed": false,
    "ExecuteTime": {
     "end_time": "2024-03-23T15:57:35.020704Z",
     "start_time": "2024-03-23T15:57:35.014674Z"
    }
   },
   "id": "3fee133b4af4e233",
   "execution_count": 6
  },
  {
   "cell_type": "code",
   "outputs": [],
   "source": [
    "sin = np.sin\n",
    "cos = np.cos"
   ],
   "metadata": {
    "collapsed": false,
    "ExecuteTime": {
     "end_time": "2024-03-23T15:57:35.744981Z",
     "start_time": "2024-03-23T15:57:35.740255Z"
    }
   },
   "id": "79bbe1f70c0d3958",
   "execution_count": 7
  },
  {
   "cell_type": "code",
   "outputs": [
    {
     "data": {
      "text/plain": "<ufunc 'cos'>"
     },
     "execution_count": 8,
     "metadata": {},
     "output_type": "execute_result"
    }
   ],
   "source": [
    "cos"
   ],
   "metadata": {
    "collapsed": false,
    "ExecuteTime": {
     "end_time": "2024-03-23T15:57:37.069007Z",
     "start_time": "2024-03-23T15:57:37.063681Z"
    }
   },
   "id": "680b92709fa9addf",
   "execution_count": 8
  },
  {
   "cell_type": "code",
   "outputs": [
    {
     "data": {
      "text/plain": "1.0"
     },
     "execution_count": 9,
     "metadata": {},
     "output_type": "execute_result"
    }
   ],
   "source": [
    "cos(0)"
   ],
   "metadata": {
    "collapsed": false,
    "ExecuteTime": {
     "end_time": "2024-03-23T15:57:37.493810Z",
     "start_time": "2024-03-23T15:57:37.490014Z"
    }
   },
   "id": "38af0b4d1507e1a1",
   "execution_count": 9
  },
  {
   "cell_type": "code",
   "outputs": [
    {
     "data": {
      "text/plain": "55"
     },
     "execution_count": 10,
     "metadata": {},
     "output_type": "execute_result"
    }
   ],
   "source": [
    "def gate():\n",
    "    return 55\n",
    "\n",
    "gate()"
   ],
   "metadata": {
    "collapsed": false,
    "ExecuteTime": {
     "end_time": "2024-03-23T15:57:38.122281Z",
     "start_time": "2024-03-23T15:57:38.117573Z"
    }
   },
   "id": "9edc68b000defc9a",
   "execution_count": 10
  },
  {
   "cell_type": "code",
   "outputs": [
    {
     "data": {
      "text/plain": "{}"
     },
     "execution_count": 11,
     "metadata": {},
     "output_type": "execute_result"
    }
   ],
   "source": [
    "d = {}\n",
    "d"
   ],
   "metadata": {
    "collapsed": false,
    "ExecuteTime": {
     "end_time": "2024-03-23T15:57:43.033904Z",
     "start_time": "2024-03-23T15:57:43.028636Z"
    }
   },
   "id": "114223a908028fc5",
   "execution_count": 11
  },
  {
   "cell_type": "code",
   "outputs": [],
   "source": [
    "d[5] = gate()"
   ],
   "metadata": {
    "collapsed": false,
    "ExecuteTime": {
     "end_time": "2024-03-23T15:57:43.964581Z",
     "start_time": "2024-03-23T15:57:43.961341Z"
    }
   },
   "id": "626aa2169292fd7e",
   "execution_count": 12
  },
  {
   "cell_type": "code",
   "outputs": [
    {
     "data": {
      "text/plain": "55"
     },
     "execution_count": 13,
     "metadata": {},
     "output_type": "execute_result"
    }
   ],
   "source": [
    "d[5]"
   ],
   "metadata": {
    "collapsed": false,
    "ExecuteTime": {
     "end_time": "2024-03-23T15:57:44.677899Z",
     "start_time": "2024-03-23T15:57:44.672330Z"
    }
   },
   "id": "cec59f0a63093ba5",
   "execution_count": 13
  },
  {
   "cell_type": "code",
   "outputs": [
    {
     "data": {
      "text/plain": "QuantumCircuit(3)\n\n[[[1.+0.j]]\n\n [[0.+0.j]]]\n\n\n[[[0.+0.j]]\n\n [[1.+0.j]]]\n\n\n[[[1.+0.j]]\n\n [[0.+0.j]]]\n"
     },
     "execution_count": 14,
     "metadata": {},
     "output_type": "execute_result"
    }
   ],
   "source": [
    "qc"
   ],
   "metadata": {
    "collapsed": false,
    "ExecuteTime": {
     "end_time": "2024-03-23T15:57:56.341321Z",
     "start_time": "2024-03-23T15:57:56.336928Z"
    }
   },
   "id": "38af180f5990228b",
   "execution_count": 14
  },
  {
   "cell_type": "code",
   "outputs": [
    {
     "data": {
      "text/plain": "3"
     },
     "execution_count": 15,
     "metadata": {},
     "output_type": "execute_result"
    }
   ],
   "source": [
    "qc.n_qubits"
   ],
   "metadata": {
    "collapsed": false,
    "ExecuteTime": {
     "end_time": "2024-03-23T15:58:08.410918Z",
     "start_time": "2024-03-23T15:58:08.404029Z"
    }
   },
   "id": "529f4f4962efeec1",
   "execution_count": 15
  },
  {
   "cell_type": "code",
   "outputs": [],
   "source": [
    "qc = [q, q, q]"
   ],
   "metadata": {
    "collapsed": false,
    "ExecuteTime": {
     "end_time": "2024-03-23T15:58:42.123556Z",
     "start_time": "2024-03-23T15:58:42.121047Z"
    }
   },
   "id": "d262eb133e2f6e32",
   "execution_count": 16
  },
  {
   "cell_type": "code",
   "outputs": [
    {
     "data": {
      "text/plain": "array([[[1.+0.j]],\n\n       [[0.+0.j]]])"
     },
     "execution_count": 17,
     "metadata": {},
     "output_type": "execute_result"
    }
   ],
   "source": [
    "q"
   ],
   "metadata": {
    "collapsed": false,
    "ExecuteTime": {
     "end_time": "2024-03-23T15:58:45.837657Z",
     "start_time": "2024-03-23T15:58:45.832898Z"
    }
   },
   "id": "42bd25f9db99469b",
   "execution_count": 17
  },
  {
   "cell_type": "code",
   "outputs": [
    {
     "data": {
      "text/plain": "[array([[[1.+0.j]],\n \n        [[0.+0.j]]]),\n array([[[1.+0.j]],\n \n        [[0.+0.j]]]),\n array([[[1.+0.j]],\n \n        [[0.+0.j]]])]"
     },
     "execution_count": 18,
     "metadata": {},
     "output_type": "execute_result"
    }
   ],
   "source": [
    "qc"
   ],
   "metadata": {
    "collapsed": false,
    "ExecuteTime": {
     "end_time": "2024-03-23T15:58:49.137962Z",
     "start_time": "2024-03-23T15:58:49.133271Z"
    }
   },
   "id": "1e459b83fd3dcf38",
   "execution_count": 18
  },
  {
   "cell_type": "code",
   "outputs": [],
   "source": [
    "Operations = [\"X\", \"Y\", \"Z\", \"H\", \"RX\", \"RY\", \"RZ\"]\n",
    "ControlledOps = [\"C\"+op for op in Operations]"
   ],
   "metadata": {
    "collapsed": false,
    "ExecuteTime": {
     "end_time": "2024-03-23T20:02:19.784333Z",
     "start_time": "2024-03-23T20:02:19.777633Z"
    }
   },
   "id": "c4f9968906994741",
   "execution_count": 19
  },
  {
   "cell_type": "code",
   "outputs": [
    {
     "data": {
      "text/plain": "['CX', 'CY', 'CZ', 'CH', 'CRX', 'CRY', 'CRZ']"
     },
     "execution_count": 20,
     "metadata": {},
     "output_type": "execute_result"
    }
   ],
   "source": [
    "ControlledOps"
   ],
   "metadata": {
    "collapsed": false,
    "ExecuteTime": {
     "end_time": "2024-03-23T20:02:24.517853Z",
     "start_time": "2024-03-23T20:02:24.509542Z"
    }
   },
   "id": "c43f438a6f8199cb",
   "execution_count": 20
  },
  {
   "cell_type": "code",
   "outputs": [
    {
     "data": {
      "text/plain": "True"
     },
     "execution_count": 21,
     "metadata": {},
     "output_type": "execute_result"
    }
   ],
   "source": [
    "\"CRX\" in Operations + ControlledOps"
   ],
   "metadata": {
    "collapsed": false,
    "ExecuteTime": {
     "end_time": "2024-03-23T20:04:22.546320Z",
     "start_time": "2024-03-23T20:04:22.537077Z"
    }
   },
   "id": "9587f1724182ab14",
   "execution_count": 21
  },
  {
   "cell_type": "code",
   "outputs": [],
   "source": [],
   "metadata": {
    "collapsed": false,
    "ExecuteTime": {
     "end_time": "2024-03-23T20:11:31.790803Z",
     "start_time": "2024-03-23T20:11:31.788631Z"
    }
   },
   "id": "98c8fccb2610ca0e",
   "execution_count": 23
  },
  {
   "cell_type": "code",
   "outputs": [],
   "source": [],
   "metadata": {
    "collapsed": false
   },
   "id": "86c940ad47e53cf7"
  }
 ],
 "metadata": {
  "kernelspec": {
   "display_name": "Python 3 (ipykernel)",
   "language": "python",
   "name": "python3"
  },
  "language_info": {
   "codemirror_mode": {
    "name": "ipython",
    "version": 3
   },
   "file_extension": ".py",
   "mimetype": "text/x-python",
   "name": "python",
   "nbconvert_exporter": "python",
   "pygments_lexer": "ipython3",
   "version": "3.9.6"
  }
 },
 "nbformat": 4,
 "nbformat_minor": 5
}
