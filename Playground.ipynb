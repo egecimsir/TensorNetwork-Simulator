{
 "cells": [
  {
   "cell_type": "code",
   "execution_count": 1,
   "id": "933b9664",
   "metadata": {},
   "outputs": [],
   "source": [
    "import numpy as np\n",
    "from TensorNetworks import *"
   ]
  },
  {
   "cell_type": "code",
   "execution_count": 2,
   "id": "fe068417",
   "metadata": {},
   "outputs": [],
   "source": [
    "qc = MPS(3, 3)\n",
    "\n",
    "cx = MPS.MultiGates[\"CX\"]\n",
    "h = MPS.SingleGates[\"H\"]\n",
    "q = qc.tensors[1]"
   ]
  },
  {
   "cell_type": "code",
   "execution_count": 3,
   "id": "ef4e838f",
   "metadata": {},
   "outputs": [
    {
     "data": {
      "text/plain": [
       "QuantumCircuit(3)\n",
       "\n",
       "[[[1.+0.j]]\n",
       "\n",
       " [[0.+0.j]]]\n",
       "\n",
       "\n",
       "[[[0.+0.j]]\n",
       "\n",
       " [[1.+0.j]]]\n",
       "\n",
       "\n",
       "[[[1.+0.j]]\n",
       "\n",
       " [[0.+0.j]]]\n"
      ]
     },
     "execution_count": 3,
     "metadata": {},
     "output_type": "execute_result"
    }
   ],
   "source": [
    "qc.initialize((0,1,0))\n",
    "qc"
   ]
  },
  {
   "cell_type": "code",
   "execution_count": 11,
   "id": "13db284a",
   "metadata": {},
   "outputs": [
    {
     "data": {
      "text/plain": [
       "(array([[[1.+0.j]],\n",
       " \n",
       "        [[0.+0.j]]]),\n",
       " array([[[0.+0.j]],\n",
       " \n",
       "        [[1.+0.j]]]),\n",
       " (2, 1, 1))"
      ]
     },
     "execution_count": 11,
     "metadata": {},
     "output_type": "execute_result"
    }
   ],
   "source": [
    "M_c, M_t = qc[0], qc[1]\n",
    "M_c, M_t, M_c.shape"
   ]
  },
  {
   "cell_type": "code",
   "execution_count": 12,
   "id": "9321a7c8",
   "metadata": {},
   "outputs": [
    {
     "data": {
      "text/plain": [
       "(array([[[[0.+0.j],\n",
       "          [1.+0.j]]],\n",
       " \n",
       " \n",
       "        [[[0.+0.j],\n",
       "          [0.+0.j]]]]),\n",
       " (2, 1, 2, 1))"
      ]
     },
     "execution_count": 12,
     "metadata": {},
     "output_type": "execute_result"
    }
   ],
   "source": [
    "T1 = np.einsum(\"ijk, lkm -> ijlm\", M_c, M_t)\n",
    "T1, T1.shape"
   ]
  },
  {
   "cell_type": "code",
   "execution_count": 15,
   "id": "d40893da",
   "metadata": {},
   "outputs": [
    {
     "data": {
      "text/plain": [
       "(array([[[[0.+0.j],\n",
       "          [1.+0.j]],\n",
       " \n",
       "         [[0.+0.j],\n",
       "          [1.+0.j]]],\n",
       " \n",
       " \n",
       "        [[[0.+0.j],\n",
       "          [0.+0.j]],\n",
       " \n",
       "         [[0.+0.j],\n",
       "          [0.+0.j]]]]),\n",
       " (2, 2, 2, 1))"
      ]
     },
     "execution_count": 15,
     "metadata": {},
     "output_type": "execute_result"
    }
   ],
   "source": [
    "T2 = np.einsum(\"klij, ijmn -> klmn\", cx, T1)\n",
    "T2, T2.shape"
   ]
  },
  {
   "cell_type": "code",
   "execution_count": 28,
   "id": "300111a1",
   "metadata": {},
   "outputs": [],
   "source": [
    "U, S, V = np.linalg.svd(T2)"
   ]
  },
  {
   "cell_type": "code",
   "execution_count": 29,
   "id": "1f200d1e",
   "metadata": {},
   "outputs": [
    {
     "data": {
      "text/plain": [
       "(array([[[[ 0.+0.j, -1.+0.j],\n",
       "          [ 1.+0.j,  0.+0.j]],\n",
       " \n",
       "         [[ 0.+0.j, -1.+0.j],\n",
       "          [ 1.+0.j,  0.+0.j]]],\n",
       " \n",
       " \n",
       "        [[[ 1.+0.j,  0.+0.j],\n",
       "          [ 0.+0.j,  1.+0.j]],\n",
       " \n",
       "         [[ 1.+0.j,  0.+0.j],\n",
       "          [ 0.+0.j,  1.+0.j]]]]),\n",
       " (2, 2, 2, 2))"
      ]
     },
     "execution_count": 29,
     "metadata": {},
     "output_type": "execute_result"
    }
   ],
   "source": [
    "U, U.shape"
   ]
  },
  {
   "cell_type": "code",
   "execution_count": 30,
   "id": "d2228f8d",
   "metadata": {},
   "outputs": [
    {
     "data": {
      "text/plain": [
       "(array([[[1.],\n",
       "         [1.]],\n",
       " \n",
       "        [[0.],\n",
       "         [0.]]]),\n",
       " (2, 2, 1))"
      ]
     },
     "execution_count": 30,
     "metadata": {},
     "output_type": "execute_result"
    }
   ],
   "source": [
    "S, S.shape"
   ]
  },
  {
   "cell_type": "code",
   "execution_count": 44,
   "id": "4579d225",
   "metadata": {},
   "outputs": [
    {
     "data": {
      "text/plain": [
       "(array([[[ 0.+0.j, -1.+0.j],\n",
       "         [ 0.+0.j, -1.+0.j]],\n",
       " \n",
       "        [[ 1.+0.j,  0.+0.j],\n",
       "         [ 1.+0.j,  0.+0.j]]]),\n",
       " (2, 2, 2))"
      ]
     },
     "execution_count": 44,
     "metadata": {},
     "output_type": "execute_result"
    }
   ],
   "source": [
    "M1 = np.einsum(\"ijkl, klm -> ijl\", U, S)\n",
    "M1, M1.shape"
   ]
  },
  {
   "cell_type": "code",
   "execution_count": null,
   "id": "038f6f89",
   "metadata": {},
   "outputs": [],
   "source": []
  }
 ],
 "metadata": {
  "kernelspec": {
   "display_name": "Python 3 (ipykernel)",
   "language": "python",
   "name": "python3"
  },
  "language_info": {
   "codemirror_mode": {
    "name": "ipython",
    "version": 3
   },
   "file_extension": ".py",
   "mimetype": "text/x-python",
   "name": "python",
   "nbconvert_exporter": "python",
   "pygments_lexer": "ipython3",
   "version": "3.9.12"
  }
 },
 "nbformat": 4,
 "nbformat_minor": 5
}
