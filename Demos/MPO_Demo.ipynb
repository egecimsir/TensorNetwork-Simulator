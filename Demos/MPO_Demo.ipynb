{
 "cells": [
  {
   "cell_type": "code",
   "id": "initial_id",
   "metadata": {
    "collapsed": true,
    "ExecuteTime": {
     "end_time": "2024-09-14T18:54:08.545391Z",
     "start_time": "2024-09-14T18:54:08.479487Z"
    }
   },
   "source": [
    "import numpy as np\n",
    "from Tensor import Tensor\n",
    "from QFTMPO import QFTMPO"
   ],
   "outputs": [],
   "execution_count": 1
  },
  {
   "metadata": {},
   "cell_type": "markdown",
   "source": "### Tensors to be used",
   "id": "f0239947fcfdf826"
  },
  {
   "metadata": {
    "ExecuteTime": {
     "end_time": "2024-09-14T18:54:09.077959Z",
     "start_time": "2024-09-14T18:54:09.071700Z"
    }
   },
   "cell_type": "code",
   "source": [
    "print(f\"Hadamard: {Tensor.gate('H').shape}\")\n",
    "print(f\"Copy (C): {Tensor.copy_tensor().shape}\\n\")\n",
    "print(f\"Phase-2: {Tensor.phase_tensor(1, ndim=2).shape}\")\n",
    "print(f\"Phase-3: {Tensor.phase_tensor(1, ndim=3).shape}\")\n",
    "print(f\"Phase-4: {Tensor.phase_tensor(1, ndim=4).shape}\")"
   ],
   "id": "6a10ab0e2bbd2f77",
   "outputs": [
    {
     "name": "stdout",
     "output_type": "stream",
     "text": [
      "Hadamard: (2, 2)\n",
      "Copy (C): (2, 2, 2)\n",
      "\n",
      "Phase-2: (4, 4)\n",
      "Phase-3: (2, 2, 2)\n",
      "Phase-4: (2, 2, 2, 2)\n"
     ]
    }
   ],
   "execution_count": 2
  },
  {
   "metadata": {
    "ExecuteTime": {
     "end_time": "2024-09-14T18:54:09.395507Z",
     "start_time": "2024-09-14T18:54:09.387702Z"
    }
   },
   "cell_type": "code",
   "source": [
    "t = Tensor.phase_tensor(0, ndim=4)\n",
    "t.array"
   ],
   "id": "71dc49bc19324f1d",
   "outputs": [
    {
     "data": {
      "text/plain": [
       "array([[[[1.+0.j, 0.+0.j],\n",
       "         [0.+0.j, 0.+0.j]],\n",
       "\n",
       "        [[0.+0.j, 1.+0.j],\n",
       "         [0.+0.j, 0.+0.j]]],\n",
       "\n",
       "\n",
       "       [[[0.+0.j, 0.+0.j],\n",
       "         [1.+0.j, 0.+0.j]],\n",
       "\n",
       "        [[0.+0.j, 0.+0.j],\n",
       "         [0.+0.j, 1.+0.j]]]])"
      ]
     },
     "execution_count": 3,
     "metadata": {},
     "output_type": "execute_result"
    }
   ],
   "execution_count": 3
  },
  {
   "metadata": {},
   "cell_type": "markdown",
   "source": "### Displaying full network (not productive)",
   "id": "2d0320510ca400ac"
  },
  {
   "metadata": {
    "ExecuteTime": {
     "end_time": "2024-09-14T18:54:10.046018Z",
     "start_time": "2024-09-14T18:54:10.040872Z"
    }
   },
   "cell_type": "code",
   "source": [
    "mpo = QFTMPO(6)\n",
    "mpo.display_qft()"
   ],
   "id": "b819ed56fe889733",
   "outputs": [
    {
     "name": "stdout",
     "output_type": "stream",
     "text": [
      "QFTMPO(6)\n",
      "---------------\n",
      "s0: ['H', 'Copy']\n",
      "s1: ['P4(1.57)', 'H', 'Copy']\n",
      "s2: ['P4(0.79)', 'P4(1.57)', 'H', 'Copy']\n",
      "s3: ['P4(0.39)', 'P4(0.79)', 'P4(1.57)', 'H', 'Copy']\n",
      "s4: ['P4(0.20)', 'P4(0.39)', 'P4(0.79)', 'P4(1.57)', 'H', 'Copy']\n",
      "s5: ['P3(0.10)', 'P3(0.20)', 'P3(0.39)', 'P3(0.79)', 'P3(1.57)', 'H']\n",
      "\n"
     ]
    }
   ],
   "execution_count": 4
  },
  {
   "metadata": {},
   "cell_type": "markdown",
   "source": "### Initializing object and adding PhaseMPO's one by one",
   "id": "3c1f1d0d90109df0"
  },
  {
   "metadata": {
    "ExecuteTime": {
     "end_time": "2024-09-14T18:54:10.672221Z",
     "start_time": "2024-09-14T18:54:10.666206Z"
    }
   },
   "cell_type": "code",
   "source": [
    "mpo = QFTMPO(6)\n",
    "mpo"
   ],
   "id": "9dab2e1e2568bb42",
   "outputs": [
    {
     "data": {
      "text/plain": [
       "QFTMPO(6)\n",
       "---------------\n",
       "s0: []\n",
       "s1: []\n",
       "s2: []\n",
       "s3: []\n",
       "s4: []\n",
       "s5: []"
      ]
     },
     "execution_count": 5,
     "metadata": {},
     "output_type": "execute_result"
    }
   ],
   "execution_count": 5
  },
  {
   "metadata": {
    "ExecuteTime": {
     "end_time": "2024-09-14T18:54:11.003668Z",
     "start_time": "2024-09-14T18:54:11.000817Z"
    }
   },
   "cell_type": "code",
   "source": "mpo.put_phase_mpo(0)",
   "id": "3c00df643942ad51",
   "outputs": [
    {
     "data": {
      "text/plain": [
       "QFTMPO(6)\n",
       "---------------\n",
       "s0: ['H', 'Copy']\n",
       "s1: ['P4(1.57)']\n",
       "s2: ['P4(0.79)']\n",
       "s3: ['P4(0.39)']\n",
       "s4: ['P4(0.20)']\n",
       "s5: ['P3(0.10)']"
      ]
     },
     "execution_count": 6,
     "metadata": {},
     "output_type": "execute_result"
    }
   ],
   "execution_count": 6
  },
  {
   "metadata": {
    "ExecuteTime": {
     "end_time": "2024-09-14T18:54:11.495837Z",
     "start_time": "2024-09-14T18:54:11.490884Z"
    }
   },
   "cell_type": "code",
   "source": "mpo.put_phase_mpo(1)",
   "id": "ec75d0e32c498b34",
   "outputs": [
    {
     "data": {
      "text/plain": [
       "QFTMPO(6)\n",
       "---------------\n",
       "s0: ['H', 'Copy']\n",
       "s1: ['P4(1.57)', 'H', 'Copy']\n",
       "s2: ['P4(0.79)', 'P4(1.57)']\n",
       "s3: ['P4(0.39)', 'P4(0.79)']\n",
       "s4: ['P4(0.20)', 'P4(0.39)']\n",
       "s5: ['P3(0.10)', 'P3(0.20)']"
      ]
     },
     "execution_count": 7,
     "metadata": {},
     "output_type": "execute_result"
    }
   ],
   "execution_count": 7
  },
  {
   "metadata": {},
   "cell_type": "markdown",
   "source": "### Zip-up Algorithm",
   "id": "a6e531f3b2d96b8a"
  },
  {
   "metadata": {
    "ExecuteTime": {
     "end_time": "2024-09-14T18:54:12.403780Z",
     "start_time": "2024-09-14T18:54:12.400737Z"
    }
   },
   "cell_type": "code",
   "source": [
    "mpo = QFTMPO(6)\n",
    "mpo"
   ],
   "id": "a55a0f675ed816d3",
   "outputs": [
    {
     "data": {
      "text/plain": [
       "QFTMPO(6)\n",
       "---------------\n",
       "s0: []\n",
       "s1: []\n",
       "s2: []\n",
       "s3: []\n",
       "s4: []\n",
       "s5: []"
      ]
     },
     "execution_count": 8,
     "metadata": {},
     "output_type": "execute_result"
    }
   ],
   "execution_count": 8
  },
  {
   "metadata": {
    "ExecuteTime": {
     "end_time": "2024-09-14T18:54:13.449254Z",
     "start_time": "2024-09-14T18:54:13.443178Z"
    }
   },
   "cell_type": "code",
   "source": "mpo.zip_up()",
   "id": "aeacde29e1c4b656",
   "outputs": [
    {
     "data": {
      "text/plain": [
       "QFTMPO(6)\n",
       "---------------\n",
       "s0: ['T3']\n",
       "s1: ['T4']\n",
       "s2: ['T4']\n",
       "s3: ['T4']\n",
       "s4: ['T4']\n",
       "s5: ['T3']"
      ]
     },
     "execution_count": 9,
     "metadata": {},
     "output_type": "execute_result"
    }
   ],
   "execution_count": 9
  },
  {
   "metadata": {
    "ExecuteTime": {
     "end_time": "2024-09-14T18:54:14.114089Z",
     "start_time": "2024-09-14T18:54:14.105898Z"
    }
   },
   "cell_type": "code",
   "source": [
    "mpo = QFTMPO(9)\n",
    "mpo.zip_up()"
   ],
   "id": "ae5a9c1b979f57ca",
   "outputs": [
    {
     "data": {
      "text/plain": [
       "QFTMPO(9)\n",
       "---------------\n",
       "s0: ['T3']\n",
       "s1: ['T4']\n",
       "s2: ['T4']\n",
       "s3: ['T4']\n",
       "s4: ['T4']\n",
       "s5: ['T4']\n",
       "s6: ['T4']\n",
       "s7: ['T4']\n",
       "s8: ['T3']"
      ]
     },
     "execution_count": 10,
     "metadata": {},
     "output_type": "execute_result"
    }
   ],
   "execution_count": 10
  },
  {
   "metadata": {},
   "cell_type": "code",
   "outputs": [],
   "execution_count": null,
   "source": "",
   "id": "f0182ad08eb99b52"
  }
 ],
 "metadata": {
  "kernelspec": {
   "display_name": "Python 3",
   "language": "python",
   "name": "python3"
  },
  "language_info": {
   "codemirror_mode": {
    "name": "ipython",
    "version": 2
   },
   "file_extension": ".py",
   "mimetype": "text/x-python",
   "name": "python",
   "nbconvert_exporter": "python",
   "pygments_lexer": "ipython2",
   "version": "2.7.6"
  }
 },
 "nbformat": 4,
 "nbformat_minor": 5
}
