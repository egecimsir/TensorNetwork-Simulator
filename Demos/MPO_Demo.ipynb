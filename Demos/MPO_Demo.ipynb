{
 "cells": [
  {
   "cell_type": "code",
   "id": "initial_id",
   "metadata": {
    "collapsed": true,
    "ExecuteTime": {
     "end_time": "2024-09-14T00:36:52.000782Z",
     "start_time": "2024-09-14T00:36:51.929830Z"
    }
   },
   "source": [
    "import numpy as np\n",
    "from Tensor import Tensor\n",
    "from QFTMPO import QFTMPO"
   ],
   "outputs": [],
   "execution_count": 1
  },
  {
   "metadata": {},
   "cell_type": "markdown",
   "source": "### Tensors to be used",
   "id": "f0239947fcfdf826"
  },
  {
   "metadata": {
    "ExecuteTime": {
     "end_time": "2024-09-14T00:36:52.558040Z",
     "start_time": "2024-09-14T00:36:52.552017Z"
    }
   },
   "cell_type": "code",
   "source": [
    "print(f\"Hadamard: {Tensor.gate('H').shape}\")\n",
    "print(f\"Copy (C): {Tensor.copy_tensor().shape}\\n\")\n",
    "print(f\"Phase-2: {Tensor.phase_tensor(1, ndim=2).shape}\")\n",
    "print(f\"Phase-3: {Tensor.phase_tensor(1, ndim=3).shape}\")\n",
    "print(f\"Phase-4: {Tensor.phase_tensor(1, ndim=4).shape}\")"
   ],
   "id": "6a10ab0e2bbd2f77",
   "outputs": [
    {
     "name": "stdout",
     "output_type": "stream",
     "text": [
      "Hadamard: (2, 2)\n",
      "Copy (C): (2, 2, 2)\n",
      "\n",
      "Phase-2: (4, 4)\n",
      "Phase-3: (2, 2, 2)\n",
      "Phase-4: (2, 2, 2, 2)\n"
     ]
    }
   ],
   "execution_count": 2
  },
  {
   "metadata": {
    "ExecuteTime": {
     "end_time": "2024-09-14T00:36:52.877233Z",
     "start_time": "2024-09-14T00:36:52.868563Z"
    }
   },
   "cell_type": "code",
   "source": [
    "t = Tensor.phase_tensor(0, ndim=4)\n",
    "t.array"
   ],
   "id": "71dc49bc19324f1d",
   "outputs": [
    {
     "data": {
      "text/plain": [
       "array([[[[1.+0.j, 0.+0.j],\n",
       "         [0.+0.j, 0.+0.j]],\n",
       "\n",
       "        [[0.+0.j, 1.+0.j],\n",
       "         [0.+0.j, 0.+0.j]]],\n",
       "\n",
       "\n",
       "       [[[0.+0.j, 0.+0.j],\n",
       "         [1.+0.j, 0.+0.j]],\n",
       "\n",
       "        [[0.+0.j, 0.+0.j],\n",
       "         [0.+0.j, 1.+0.j]]]])"
      ]
     },
     "execution_count": 3,
     "metadata": {},
     "output_type": "execute_result"
    }
   ],
   "execution_count": 3
  },
  {
   "metadata": {},
   "cell_type": "markdown",
   "source": "### Initializing object and adding PhaseMPO's one by one",
   "id": "3c1f1d0d90109df0"
  },
  {
   "metadata": {
    "ExecuteTime": {
     "end_time": "2024-09-14T00:36:53.517224Z",
     "start_time": "2024-09-14T00:36:53.511708Z"
    }
   },
   "cell_type": "code",
   "source": [
    "mpo = QFTMPO(6)\n",
    "mpo"
   ],
   "id": "9dab2e1e2568bb42",
   "outputs": [
    {
     "data": {
      "text/plain": [
       "s0: []\n",
       "s1: []\n",
       "s2: []\n",
       "s3: []\n",
       "s4: []\n",
       "s5: []"
      ]
     },
     "execution_count": 4,
     "metadata": {},
     "output_type": "execute_result"
    }
   ],
   "execution_count": 4
  },
  {
   "metadata": {
    "ExecuteTime": {
     "end_time": "2024-09-14T00:36:53.836387Z",
     "start_time": "2024-09-14T00:36:53.830935Z"
    }
   },
   "cell_type": "code",
   "source": "mpo.put_phase_mpo(0)",
   "id": "3c00df643942ad51",
   "outputs": [
    {
     "data": {
      "text/plain": [
       "s0: ['H', 'Copy']\n",
       "s1: ['P4(1.57)']\n",
       "s2: ['P4(0.79)']\n",
       "s3: ['P4(0.39)']\n",
       "s4: ['P4(0.20)']\n",
       "s5: ['P3(0.10)']"
      ]
     },
     "execution_count": 5,
     "metadata": {},
     "output_type": "execute_result"
    }
   ],
   "execution_count": 5
  },
  {
   "metadata": {
    "ExecuteTime": {
     "end_time": "2024-09-14T00:36:54.145239Z",
     "start_time": "2024-09-14T00:36:54.139809Z"
    }
   },
   "cell_type": "code",
   "source": "mpo.put_phase_mpo(1)",
   "id": "ec75d0e32c498b34",
   "outputs": [
    {
     "data": {
      "text/plain": [
       "s0: ['H', 'Copy']\n",
       "s1: ['P4(1.57)', 'H', 'Copy']\n",
       "s2: ['P4(0.79)', 'P4(1.57)']\n",
       "s3: ['P4(0.39)', 'P4(0.79)']\n",
       "s4: ['P4(0.20)', 'P4(0.39)']\n",
       "s5: ['P3(0.10)', 'P3(0.20)']"
      ]
     },
     "execution_count": 6,
     "metadata": {},
     "output_type": "execute_result"
    }
   ],
   "execution_count": 6
  },
  {
   "metadata": {},
   "cell_type": "markdown",
   "source": "### Demonstration of the zip_up() algorithm",
   "id": "a49cfae3ebaa3282"
  },
  {
   "metadata": {
    "ExecuteTime": {
     "end_time": "2024-09-14T00:36:54.945710Z",
     "start_time": "2024-09-14T00:36:54.941208Z"
    }
   },
   "cell_type": "code",
   "source": [
    "s = 1\n",
    "for i in range(len(mpo)-1, s-1, -1):\n",
    "    print(mpo.sites[i])\n",
    "    if i==s:\n",
    "        print(\"contracted, no SVD\")\n",
    "    else:\n",
    "        print(\"contracted and SVD\")\n",
    "    if i != s:\n",
    "        print(\"push the new U upwards\\n\")\n",
    "        mpo.sites[i-1].append(\"U\")\n",
    "    \n",
    "print(\"\\nStopped, beginning SVD downwards...\")"
   ],
   "id": "569245df0cbf3b0e",
   "outputs": [
    {
     "name": "stdout",
     "output_type": "stream",
     "text": [
      "[P3(0.10)(2, 2, 2), P3(0.20)(2, 2, 2)]\n",
      "contracted and SVD\n",
      "push the new U upwards\n",
      "\n",
      "[P4(0.20)(2, 2, 2, 2), P4(0.39)(2, 2, 2, 2), 'U']\n",
      "contracted and SVD\n",
      "push the new U upwards\n",
      "\n",
      "[P4(0.39)(2, 2, 2, 2), P4(0.79)(2, 2, 2, 2), 'U']\n",
      "contracted and SVD\n",
      "push the new U upwards\n",
      "\n",
      "[P4(0.79)(2, 2, 2, 2), P4(1.57)(2, 2, 2, 2), 'U']\n",
      "contracted and SVD\n",
      "push the new U upwards\n",
      "\n",
      "[P4(1.57)(2, 2, 2, 2), H(2, 2), Copy(2, 2, 2), 'U']\n",
      "contracted, no SVD\n",
      "\n",
      "Stopped, beginning SVD downwards...\n"
     ]
    }
   ],
   "execution_count": 7
  },
  {
   "metadata": {},
   "cell_type": "markdown",
   "source": "### Displaying full network (not productive)",
   "id": "2d0320510ca400ac"
  },
  {
   "metadata": {
    "ExecuteTime": {
     "end_time": "2024-09-14T00:36:55.754069Z",
     "start_time": "2024-09-14T00:36:55.750241Z"
    }
   },
   "cell_type": "code",
   "source": [
    "mpo = QFTMPO(6)\n",
    "mpo.initialize_qft()"
   ],
   "id": "b819ed56fe889733",
   "outputs": [
    {
     "data": {
      "text/plain": [
       "s0: ['H', 'Copy']\n",
       "s1: ['P4(1.57)', 'H', 'Copy']\n",
       "s2: ['P4(0.79)', 'P4(1.57)', 'H', 'Copy']\n",
       "s3: ['P4(0.39)', 'P4(0.79)', 'P4(1.57)', 'H', 'Copy']\n",
       "s4: ['P4(0.20)', 'P4(0.39)', 'P4(0.79)', 'P4(1.57)', 'H', 'Copy']\n",
       "s5: ['P3(0.10)', 'P3(0.20)', 'P3(0.39)', 'P3(0.79)', 'P3(1.57)', 'H']"
      ]
     },
     "execution_count": 8,
     "metadata": {},
     "output_type": "execute_result"
    }
   ],
   "execution_count": 8
  },
  {
   "metadata": {},
   "cell_type": "markdown",
   "source": "### Zip-up Algorithm",
   "id": "a6e531f3b2d96b8a"
  },
  {
   "metadata": {
    "ExecuteTime": {
     "end_time": "2024-09-14T00:36:56.546228Z",
     "start_time": "2024-09-14T00:36:56.541051Z"
    }
   },
   "cell_type": "code",
   "source": [
    "mpo = QFTMPO(6)\n",
    "mpo"
   ],
   "id": "a55a0f675ed816d3",
   "outputs": [
    {
     "data": {
      "text/plain": [
       "s0: []\n",
       "s1: []\n",
       "s2: []\n",
       "s3: []\n",
       "s4: []\n",
       "s5: []"
      ]
     },
     "execution_count": 9,
     "metadata": {},
     "output_type": "execute_result"
    }
   ],
   "execution_count": 9
  },
  {
   "metadata": {
    "ExecuteTime": {
     "end_time": "2024-09-14T00:36:57.561249Z",
     "start_time": "2024-09-14T00:36:57.398517Z"
    }
   },
   "cell_type": "code",
   "source": "mpo.zip_up()",
   "id": "aeacde29e1c4b656",
   "outputs": [
    {
     "ename": "ValueError",
     "evalue": "cannot reshape array of size 64 into shape (2,2,4)",
     "output_type": "error",
     "traceback": [
      "\u001B[0;31m---------------------------------------------------------------------------\u001B[0m",
      "\u001B[0;31mValueError\u001B[0m                                Traceback (most recent call last)",
      "Cell \u001B[0;32mIn[10], line 1\u001B[0m\n\u001B[0;32m----> 1\u001B[0m \u001B[43mmpo\u001B[49m\u001B[38;5;241;43m.\u001B[39;49m\u001B[43mzip_up\u001B[49m\u001B[43m(\u001B[49m\u001B[43m)\u001B[49m\n",
      "File \u001B[0;32m~/Desktop/Thesis/Code/QFTMPO.py:106\u001B[0m, in \u001B[0;36mQFTMPO.zip_up\u001B[0;34m(self)\u001B[0m\n\u001B[1;32m    104\u001B[0m     \u001B[38;5;66;03m## Adjust dimensions\u001B[39;00m\n\u001B[1;32m    105\u001B[0m     bond \u001B[38;5;241m=\u001B[39m S\u001B[38;5;241m.\u001B[39mshape[\u001B[38;5;241m0\u001B[39m]\n\u001B[0;32m--> 106\u001B[0m     U \u001B[38;5;241m=\u001B[39m \u001B[43mU\u001B[49m\u001B[38;5;241;43m.\u001B[39;49m\u001B[43mreshape\u001B[49m\u001B[43m(\u001B[49m\u001B[43mv1\u001B[49m\u001B[43m,\u001B[49m\u001B[43m \u001B[49m\u001B[43mv2\u001B[49m\u001B[43m,\u001B[49m\u001B[43m \u001B[49m\u001B[43mbond\u001B[49m\u001B[43m)\u001B[49m\n\u001B[1;32m    107\u001B[0m     V \u001B[38;5;241m=\u001B[39m V\u001B[38;5;241m.\u001B[39mreshape(bond, v3, h1, h2)\n\u001B[1;32m    109\u001B[0m \u001B[38;5;28;01melse\u001B[39;00m:\n",
      "\u001B[0;31mValueError\u001B[0m: cannot reshape array of size 64 into shape (2,2,4)"
     ]
    }
   ],
   "execution_count": 10
  },
  {
   "metadata": {
    "ExecuteTime": {
     "end_time": "2024-09-14T00:43:03.198128Z",
     "start_time": "2024-09-14T00:43:03.190557Z"
    }
   },
   "cell_type": "code",
   "source": "mpo",
   "id": "ae5a9c1b979f57ca",
   "outputs": [
    {
     "data": {
      "text/plain": [
       "s0: ['Tensor']\n",
       "s1: ['P4(1.57)', 'H', 'Copy']\n",
       "s2: ['P4(0.79)', 'P4(1.57)']\n",
       "s3: ['P4(0.39)', 'P4(0.79)']\n",
       "s4: []\n",
       "s5: ['Tensor']"
      ]
     },
     "execution_count": 11,
     "metadata": {},
     "output_type": "execute_result"
    }
   ],
   "execution_count": 11
  },
  {
   "metadata": {
    "ExecuteTime": {
     "end_time": "2024-09-14T00:43:54.830794Z",
     "start_time": "2024-09-14T00:43:54.825501Z"
    }
   },
   "cell_type": "code",
   "source": "mpo[5]",
   "id": "ba8de85e621c1a03",
   "outputs": [
    {
     "data": {
      "text/plain": [
       "[Tensor(4, 2, 2)]"
      ]
     },
     "execution_count": 13,
     "metadata": {},
     "output_type": "execute_result"
    }
   ],
   "execution_count": 13
  },
  {
   "metadata": {},
   "cell_type": "code",
   "outputs": [],
   "execution_count": null,
   "source": "",
   "id": "60a171d053d6942a"
  }
 ],
 "metadata": {
  "kernelspec": {
   "display_name": "Python 3",
   "language": "python",
   "name": "python3"
  },
  "language_info": {
   "codemirror_mode": {
    "name": "ipython",
    "version": 2
   },
   "file_extension": ".py",
   "mimetype": "text/x-python",
   "name": "python",
   "nbconvert_exporter": "python",
   "pygments_lexer": "ipython2",
   "version": "2.7.6"
  }
 },
 "nbformat": 4,
 "nbformat_minor": 5
}
