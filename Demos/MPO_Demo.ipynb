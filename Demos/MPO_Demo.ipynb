{
 "cells": [
  {
   "cell_type": "code",
   "id": "initial_id",
   "metadata": {
    "collapsed": true,
    "ExecuteTime": {
     "end_time": "2024-09-09T21:10:44.600370Z",
     "start_time": "2024-09-09T21:10:44.467861Z"
    }
   },
   "source": [
    "import numpy as np\n",
    "from Tensor import Tensor\n",
    "from QFTMPO import QFTMPO"
   ],
   "outputs": [],
   "execution_count": 1
  },
  {
   "metadata": {
    "ExecuteTime": {
     "end_time": "2024-09-09T21:10:45.228044Z",
     "start_time": "2024-09-09T21:10:45.219385Z"
    }
   },
   "cell_type": "code",
   "source": [
    "print(f\"Hadamard: {Tensor.gate('H').shape}\")\n",
    "print(f\"Copy: {Tensor.copy_tensor().shape}\")\n",
    "print(f\"Phase: {Tensor.phase_tensor(1).shape}\")\n",
    "Tensor.phase_tensor(0).array"
   ],
   "id": "9cdbb2d892cefe37",
   "outputs": [
    {
     "name": "stdout",
     "output_type": "stream",
     "text": [
      "Hadamard: (2, 2)\n",
      "Copy: (2, 2, 2)\n",
      "Phase: (2, 2)\n"
     ]
    },
    {
     "data": {
      "text/plain": [
       "array([[1.        +0.j, 0.        +0.j],\n",
       "       [0.        +0.j, 2.71828183+0.j]])"
      ]
     },
     "execution_count": 2,
     "metadata": {},
     "output_type": "execute_result"
    }
   ],
   "execution_count": 2
  },
  {
   "metadata": {
    "ExecuteTime": {
     "end_time": "2024-09-09T21:10:46.180667Z",
     "start_time": "2024-09-09T21:10:46.174752Z"
    }
   },
   "cell_type": "code",
   "source": [
    "mpo = QFTMPO(4)\n",
    "mpo"
   ],
   "id": "9dab2e1e2568bb42",
   "outputs": [
    {
     "data": {
      "text/plain": [
       "[]\n",
       "[]\n",
       "[]\n",
       "[]"
      ]
     },
     "execution_count": 3,
     "metadata": {},
     "output_type": "execute_result"
    }
   ],
   "execution_count": 3
  },
  {
   "metadata": {
    "ExecuteTime": {
     "end_time": "2024-09-09T21:10:48.825171Z",
     "start_time": "2024-09-09T21:10:48.819239Z"
    }
   },
   "cell_type": "code",
   "source": "mpo.put_phase_mpo(0)",
   "id": "3c00df643942ad51",
   "outputs": [
    {
     "data": {
      "text/plain": [
       "['H', 'Copy']\n",
       "['P(2)']\n",
       "['P(4)']\n",
       "['P(8)']"
      ]
     },
     "execution_count": 4,
     "metadata": {},
     "output_type": "execute_result"
    }
   ],
   "execution_count": 4
  },
  {
   "metadata": {
    "ExecuteTime": {
     "end_time": "2024-09-09T21:10:50.211258Z",
     "start_time": "2024-09-09T21:10:50.205563Z"
    }
   },
   "cell_type": "code",
   "source": "mpo.put_phase_mpo(1)",
   "id": "ec75d0e32c498b34",
   "outputs": [
    {
     "data": {
      "text/plain": [
       "['H', 'Copy']\n",
       "['P(2)', 'H', 'Copy']\n",
       "['P(4)', 'P(2)']\n",
       "['P(8)', 'P(4)']"
      ]
     },
     "execution_count": 5,
     "metadata": {},
     "output_type": "execute_result"
    }
   ],
   "execution_count": 5
  },
  {
   "metadata": {
    "ExecuteTime": {
     "end_time": "2024-09-09T21:10:51.773738Z",
     "start_time": "2024-09-09T21:10:51.767997Z"
    }
   },
   "cell_type": "code",
   "source": [
    "s = 1\n",
    "for i in range(len(mpo)-1, s-1, -1):\n",
    "    print(mpo.sites[i])\n",
    "    print(\"contracted\")\n",
    "    \n",
    "print(\"\")\n",
    "print(\"stop, svd in reverse\\n\")\n",
    "for i in range(s, len(mpo)):\n",
    "    print(f\"SVD: {mpo.sites[i]}\")"
   ],
   "id": "569245df0cbf3b0e",
   "outputs": [
    {
     "name": "stdout",
     "output_type": "stream",
     "text": [
      "['P(8)', 'P(4)']\n",
      "contracted\n",
      "['P(4)', 'P(2)']\n",
      "contracted\n",
      "['P(2)', 'H', 'Copy']\n",
      "contracted\n",
      "\n",
      "stop, svd in reverse\n",
      "\n",
      "SVD: ['P(2)', 'H', 'Copy']\n",
      "SVD: ['P(4)', 'P(2)']\n",
      "SVD: ['P(8)', 'P(4)']\n"
     ]
    }
   ],
   "execution_count": 6
  },
  {
   "metadata": {},
   "cell_type": "code",
   "outputs": [],
   "execution_count": null,
   "source": "",
   "id": "ddd6872a23752e1"
  }
 ],
 "metadata": {
  "kernelspec": {
   "display_name": "Python 3",
   "language": "python",
   "name": "python3"
  },
  "language_info": {
   "codemirror_mode": {
    "name": "ipython",
    "version": 2
   },
   "file_extension": ".py",
   "mimetype": "text/x-python",
   "name": "python",
   "nbconvert_exporter": "python",
   "pygments_lexer": "ipython2",
   "version": "2.7.6"
  }
 },
 "nbformat": 4,
 "nbformat_minor": 5
}
