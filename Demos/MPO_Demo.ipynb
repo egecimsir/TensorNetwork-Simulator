{
 "cells": [
  {
   "cell_type": "code",
   "id": "initial_id",
   "metadata": {
    "collapsed": true,
    "ExecuteTime": {
     "end_time": "2024-09-07T16:32:02.915360Z",
     "start_time": "2024-09-07T16:32:02.840019Z"
    }
   },
   "source": [
    "import numpy as np\n",
    "from Tensor import Tensor\n",
    "from QFTMPO import QFTMPO"
   ],
   "outputs": [],
   "execution_count": 1
  },
  {
   "metadata": {
    "ExecuteTime": {
     "end_time": "2024-09-07T16:32:12.922358Z",
     "start_time": "2024-09-07T16:32:12.916298Z"
    }
   },
   "cell_type": "code",
   "source": [
    "mpo = QFTMPO(4)\n",
    "mpo"
   ],
   "id": "9dab2e1e2568bb42",
   "outputs": [
    {
     "data": {
      "text/plain": [
       "['H', 'Copy']\n",
       "['P_2', 'H', 'Copy']\n",
       "['P_4', 'P_2', 'H', 'Copy']\n",
       "['P_8', 'P_4', 'P_2', 'H']"
      ]
     },
     "execution_count": 3,
     "metadata": {},
     "output_type": "execute_result"
    }
   ],
   "execution_count": 3
  },
  {
   "metadata": {
    "ExecuteTime": {
     "end_time": "2024-09-07T16:30:38.087075Z",
     "start_time": "2024-09-07T16:30:38.079672Z"
    }
   },
   "cell_type": "code",
   "source": "Tensor.c_gate(\"Z\", np.pi/2).name",
   "id": "e01c2cdfa5dfdcae",
   "outputs": [
    {
     "data": {
      "text/plain": [
       "'CRZ(0.20)'"
      ]
     },
     "execution_count": 8,
     "metadata": {},
     "output_type": "execute_result"
    }
   ],
   "execution_count": 8
  },
  {
   "metadata": {},
   "cell_type": "code",
   "outputs": [],
   "execution_count": null,
   "source": "",
   "id": "922cf6d928dd6c3f"
  }
 ],
 "metadata": {
  "kernelspec": {
   "display_name": "Python 3",
   "language": "python",
   "name": "python3"
  },
  "language_info": {
   "codemirror_mode": {
    "name": "ipython",
    "version": 2
   },
   "file_extension": ".py",
   "mimetype": "text/x-python",
   "name": "python",
   "nbconvert_exporter": "python",
   "pygments_lexer": "ipython2",
   "version": "2.7.6"
  }
 },
 "nbformat": 4,
 "nbformat_minor": 5
}
