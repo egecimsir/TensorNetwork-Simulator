{
 "cells": [
  {
   "cell_type": "code",
   "id": "initial_id",
   "metadata": {
    "collapsed": true,
    "ExecuteTime": {
     "end_time": "2024-09-18T15:20:40.581818Z",
     "start_time": "2024-09-18T15:20:40.511026Z"
    }
   },
   "source": [
    "import numpy as np\n",
    "\n",
    "from Tensor import Tensor\n",
    "from QFTMPO import QFTMPO\n",
    "from MatrixProductState import MPS\n",
    "from TensorNetwork import TensorNetwork"
   ],
   "outputs": [],
   "execution_count": 1
  },
  {
   "metadata": {},
   "cell_type": "markdown",
   "source": "### Tensors to be used",
   "id": "f0239947fcfdf826"
  },
  {
   "metadata": {
    "ExecuteTime": {
     "end_time": "2024-09-18T15:20:41.339916Z",
     "start_time": "2024-09-18T15:20:41.336673Z"
    }
   },
   "cell_type": "code",
   "source": [
    "print(f\"Hadamard: {Tensor.gate('H').shape}\")\n",
    "print(f\"Copy (C): {Tensor.copy_tensor().shape}\\n\")\n",
    "print(f\"Phase-2: {Tensor.phase_tensor(1, ndim=2).shape}\")\n",
    "print(f\"Phase-3: {Tensor.phase_tensor(1, ndim=3).shape}\")\n",
    "print(f\"Phase-4: {Tensor.phase_tensor(1, ndim=4).shape}\")"
   ],
   "id": "6a10ab0e2bbd2f77",
   "outputs": [
    {
     "name": "stdout",
     "output_type": "stream",
     "text": [
      "Hadamard: (2, 2)\n",
      "Copy (C): (2, 2, 2)\n",
      "\n",
      "Phase-2: (4, 4)\n",
      "Phase-3: (2, 2, 2)\n",
      "Phase-4: (2, 2, 2, 2)\n"
     ]
    }
   ],
   "execution_count": 2
  },
  {
   "metadata": {},
   "cell_type": "markdown",
   "source": "### Displaying full network (not productive)",
   "id": "2d0320510ca400ac"
  },
  {
   "metadata": {
    "ExecuteTime": {
     "end_time": "2024-09-18T15:20:42.372605Z",
     "start_time": "2024-09-18T15:20:42.368268Z"
    }
   },
   "cell_type": "code",
   "source": [
    "mpo = QFTMPO(6)\n",
    "mpo.display_qft()"
   ],
   "id": "b819ed56fe889733",
   "outputs": [
    {
     "name": "stdout",
     "output_type": "stream",
     "text": [
      "QFTMPO(6)\n",
      "--------------------\n",
      "s0: ['H', 'Copy']\n",
      "s1: ['P4(1.57)', 'H', 'Copy']\n",
      "s2: ['P4(0.79)', 'P4(1.57)', 'H', 'Copy']\n",
      "s3: ['P4(0.39)', 'P4(0.79)', 'P4(1.57)', 'H', 'Copy']\n",
      "s4: ['P4(0.20)', 'P4(0.39)', 'P4(0.79)', 'P4(1.57)', 'H', 'Copy']\n",
      "s5: ['P3(0.10)', 'P3(0.20)', 'P3(0.39)', 'P3(0.79)', 'P3(1.57)', 'H']\n",
      "\n"
     ]
    }
   ],
   "execution_count": 3
  },
  {
   "metadata": {},
   "cell_type": "markdown",
   "source": "### Initializing object and adding PhaseMPO's one by one",
   "id": "3c1f1d0d90109df0"
  },
  {
   "metadata": {
    "ExecuteTime": {
     "end_time": "2024-09-18T15:20:43.140850Z",
     "start_time": "2024-09-18T15:20:43.131769Z"
    }
   },
   "cell_type": "code",
   "source": [
    "mpo = QFTMPO(6)\n",
    "mpo"
   ],
   "id": "9dab2e1e2568bb42",
   "outputs": [
    {
     "data": {
      "text/plain": [
       "QFTMPO(6)\n",
       "--------------------\n",
       "s0: []\n",
       "s1: []\n",
       "s2: []\n",
       "s3: []\n",
       "s4: []\n",
       "s5: []"
      ]
     },
     "execution_count": 4,
     "metadata": {},
     "output_type": "execute_result"
    }
   ],
   "execution_count": 4
  },
  {
   "metadata": {
    "ExecuteTime": {
     "end_time": "2024-09-18T15:20:43.747566Z",
     "start_time": "2024-09-18T15:20:43.738666Z"
    }
   },
   "cell_type": "code",
   "source": "mpo.put_phase_mpo(0)",
   "id": "3c00df643942ad51",
   "outputs": [
    {
     "data": {
      "text/plain": [
       "QFTMPO(6)\n",
       "--------------------\n",
       "s0: ['H', 'Copy']\n",
       "s1: ['P4(1.57)']\n",
       "s2: ['P4(0.79)']\n",
       "s3: ['P4(0.39)']\n",
       "s4: ['P4(0.20)']\n",
       "s5: ['P3(0.10)']"
      ]
     },
     "execution_count": 5,
     "metadata": {},
     "output_type": "execute_result"
    }
   ],
   "execution_count": 5
  },
  {
   "metadata": {
    "ExecuteTime": {
     "end_time": "2024-09-18T15:20:44.462515Z",
     "start_time": "2024-09-18T15:20:44.457793Z"
    }
   },
   "cell_type": "code",
   "source": "mpo.put_phase_mpo(1)",
   "id": "ec75d0e32c498b34",
   "outputs": [
    {
     "data": {
      "text/plain": [
       "QFTMPO(6)\n",
       "--------------------\n",
       "s0: ['H', 'Copy']\n",
       "s1: ['P4(1.57)', 'H', 'Copy']\n",
       "s2: ['P4(0.79)', 'P4(1.57)']\n",
       "s3: ['P4(0.39)', 'P4(0.79)']\n",
       "s4: ['P4(0.20)', 'P4(0.39)']\n",
       "s5: ['P3(0.10)', 'P3(0.20)']"
      ]
     },
     "execution_count": 6,
     "metadata": {},
     "output_type": "execute_result"
    }
   ],
   "execution_count": 6
  },
  {
   "metadata": {},
   "cell_type": "markdown",
   "source": "### Zip-up Algorithm",
   "id": "a6e531f3b2d96b8a"
  },
  {
   "metadata": {
    "ExecuteTime": {
     "end_time": "2024-09-18T15:20:45.230977Z",
     "start_time": "2024-09-18T15:20:45.222576Z"
    }
   },
   "cell_type": "code",
   "source": [
    "mpo = QFTMPO(14)\n",
    "mpo"
   ],
   "id": "a55a0f675ed816d3",
   "outputs": [
    {
     "data": {
      "text/plain": [
       "QFTMPO(14)\n",
       "--------------------\n",
       "s0: []\n",
       "s1: []\n",
       "s2: []\n",
       "s3: []\n",
       "s4: []\n",
       "s5: []\n",
       "s6: []\n",
       "s7: []\n",
       "s8: []\n",
       "s9: []\n",
       "s10: []\n",
       "s11: []\n",
       "s12: []\n",
       "s13: []"
      ]
     },
     "execution_count": 7,
     "metadata": {},
     "output_type": "execute_result"
    }
   ],
   "execution_count": 7
  },
  {
   "metadata": {
    "ExecuteTime": {
     "end_time": "2024-09-18T15:22:12.232729Z",
     "start_time": "2024-09-18T15:20:45.730635Z"
    }
   },
   "cell_type": "code",
   "source": [
    "mpo.zip_up()\n",
    "mpo.print_dims()"
   ],
   "id": "aeacde29e1c4b656",
   "outputs": [
    {
     "name": "stdout",
     "output_type": "stream",
     "text": [
      "QFTMPO(14)\n",
      "--------------------\n",
      "\n",
      "s0: [(2, 2, 2)]\n",
      "s1: [(2, 4, 2, 2)]\n",
      "s2: [(4, 8, 2, 2)]\n",
      "s3: [(8, 16, 2, 2)]\n",
      "s4: [(16, 32, 2, 2)]\n",
      "s5: [(32, 64, 2, 2)]\n",
      "s6: [(64, 128, 2, 2)]\n",
      "s7: [(128, 256, 2, 2)]\n",
      "s8: [(256, 512, 2, 2)]\n",
      "s9: [(512, 256, 2, 2)]\n",
      "s10: [(256, 64, 2, 2)]\n",
      "s11: [(64, 16, 2, 2)]\n",
      "s12: [(16, 4, 2, 2)]\n",
      "s13: [(4, 2, 2)]\n"
     ]
    }
   ],
   "execution_count": 8
  },
  {
   "metadata": {
    "ExecuteTime": {
     "end_time": "2024-09-18T15:22:12.414793Z",
     "start_time": "2024-09-18T15:22:12.234554Z"
    }
   },
   "cell_type": "code",
   "source": [
    "mpo = QFTMPO(9)\n",
    "mpo.zip_up()"
   ],
   "id": "ae5a9c1b979f57ca",
   "outputs": [
    {
     "data": {
      "text/plain": [
       "QFTMPO(9)\n",
       "--------------------\n",
       "s0: ['T3']\n",
       "s1: ['T4']\n",
       "s2: ['T4']\n",
       "s3: ['T4']\n",
       "s4: ['T4']\n",
       "s5: ['T4']\n",
       "s6: ['T4']\n",
       "s7: ['T4']\n",
       "s8: ['T3']"
      ]
     },
     "execution_count": 9,
     "metadata": {},
     "output_type": "execute_result"
    }
   ],
   "execution_count": 9
  },
  {
   "metadata": {},
   "cell_type": "markdown",
   "source": "### MPO-MPS Multiplication",
   "id": "d84995361f759a99"
  },
  {
   "metadata": {
    "ExecuteTime": {
     "end_time": "2024-09-18T15:22:12.423968Z",
     "start_time": "2024-09-18T15:22:12.416450Z"
    }
   },
   "cell_type": "code",
   "source": [
    "mps = TensorNetwork.generate_entangled_circuit(10, 0.9)\n",
    "mps"
   ],
   "id": "ec7caf7f0914bc19",
   "outputs": [
    {
     "data": {
      "text/plain": [
       "MPS(10)\n",
       "---------------\n",
       "T0_(2, 2)\n",
       "T1_(2, 2, 4)\n",
       "T2_(4, 2, 2)\n",
       "T3_(2, 2, 4)\n",
       "T4_(4, 2, 2)\n",
       "T5_(2, 2, 4)\n",
       "T6_(4, 2, 2)\n",
       "T7_(2, 2, 4)\n",
       "T8_(4, 2, 2)\n",
       "T9_(2, 2)"
      ]
     },
     "execution_count": 10,
     "metadata": {},
     "output_type": "execute_result"
    }
   ],
   "execution_count": 10
  },
  {
   "metadata": {
    "ExecuteTime": {
     "end_time": "2024-09-18T15:22:12.943943Z",
     "start_time": "2024-09-18T15:22:12.427941Z"
    }
   },
   "cell_type": "code",
   "source": [
    "mpo = QFTMPO(10)\n",
    "mpo.zip_up()"
   ],
   "id": "77aaaa44cfeb104",
   "outputs": [
    {
     "data": {
      "text/plain": [
       "QFTMPO(10)\n",
       "--------------------\n",
       "s0: ['T3']\n",
       "s1: ['T4']\n",
       "s2: ['T4']\n",
       "s3: ['T4']\n",
       "s4: ['T4']\n",
       "s5: ['T4']\n",
       "s6: ['T4']\n",
       "s7: ['T4']\n",
       "s8: ['T4']\n",
       "s9: ['T3']"
      ]
     },
     "execution_count": 11,
     "metadata": {},
     "output_type": "execute_result"
    }
   ],
   "execution_count": 11
  },
  {
   "metadata": {
    "ExecuteTime": {
     "end_time": "2024-09-18T15:22:13.048465Z",
     "start_time": "2024-09-18T15:22:12.944674Z"
    }
   },
   "cell_type": "code",
   "source": "mpo(mps)",
   "id": "348abe9fd1578cca",
   "outputs": [
    {
     "data": {
      "text/plain": [
       "MPS(10)\n",
       "---------------\n",
       "T0_(2, 2)\n",
       "T1_(2, 2, 4)\n",
       "T2_(4, 2, 8)\n",
       "T3_(8, 2, 16)\n",
       "T4_(16, 2, 32)\n",
       "T5_(32, 2, 64)\n",
       "T6_(64, 2, 128)\n",
       "T7_(128, 2, 64)\n",
       "T8_(64, 2, 8)\n",
       "T9_(8, 2)"
      ]
     },
     "execution_count": 12,
     "metadata": {},
     "output_type": "execute_result"
    }
   ],
   "execution_count": 12
  },
  {
   "metadata": {
    "ExecuteTime": {
     "end_time": "2024-09-18T15:22:13.060016Z",
     "start_time": "2024-09-18T15:22:13.049721Z"
    }
   },
   "cell_type": "code",
   "source": "mps.retrieve_amplitude_of(\"0000000000\")",
   "id": "cf5862738c54beba",
   "outputs": [
    {
     "data": {
      "text/plain": [
       "(-0.05617960429658205+0.05815239671037762j)"
      ]
     },
     "execution_count": 13,
     "metadata": {},
     "output_type": "execute_result"
    }
   ],
   "execution_count": 13
  },
  {
   "metadata": {
    "ExecuteTime": {
     "end_time": "2024-09-18T15:22:14.142310Z",
     "start_time": "2024-09-18T15:22:13.061242Z"
    }
   },
   "cell_type": "code",
   "source": "mpo(mps, bond_dim=1)",
   "id": "eb2ffe7240a75b23",
   "outputs": [
    {
     "data": {
      "text/plain": [
       "MPS(10)\n",
       "---------------\n",
       "T0_(2, 1)\n",
       "T1_(1, 2, 1)\n",
       "T2_(1, 2, 1)\n",
       "T3_(1, 2, 1)\n",
       "T4_(1, 2, 1)\n",
       "T5_(1, 2, 1)\n",
       "T6_(1, 2, 1)\n",
       "T7_(1, 2, 1)\n",
       "T8_(1, 2, 1)\n",
       "T9_(1, 2)"
      ]
     },
     "execution_count": 14,
     "metadata": {},
     "output_type": "execute_result"
    }
   ],
   "execution_count": 14
  },
  {
   "metadata": {},
   "cell_type": "code",
   "outputs": [],
   "execution_count": null,
   "source": "",
   "id": "c380fd3d23f59b79"
  }
 ],
 "metadata": {
  "kernelspec": {
   "display_name": "Python 3",
   "language": "python",
   "name": "python3"
  },
  "language_info": {
   "codemirror_mode": {
    "name": "ipython",
    "version": 2
   },
   "file_extension": ".py",
   "mimetype": "text/x-python",
   "name": "python",
   "nbconvert_exporter": "python",
   "pygments_lexer": "ipython2",
   "version": "2.7.6"
  }
 },
 "nbformat": 4,
 "nbformat_minor": 5
}
