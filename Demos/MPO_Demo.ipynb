{
 "cells": [
  {
   "cell_type": "code",
   "id": "initial_id",
   "metadata": {
    "collapsed": true,
    "ExecuteTime": {
     "end_time": "2024-09-13T08:29:36.347285Z",
     "start_time": "2024-09-13T08:29:36.279365Z"
    }
   },
   "source": [
    "import numpy as np\n",
    "from Tensor import Tensor\n",
    "from QFTMPO import QFTMPO"
   ],
   "outputs": [],
   "execution_count": 1
  },
  {
   "metadata": {},
   "cell_type": "markdown",
   "source": "### Tensors to be used",
   "id": "f0239947fcfdf826"
  },
  {
   "metadata": {
    "ExecuteTime": {
     "end_time": "2024-09-13T08:29:36.968564Z",
     "start_time": "2024-09-13T08:29:36.962633Z"
    }
   },
   "cell_type": "code",
   "source": [
    "print(f\"Hadamard: {Tensor.gate('H').shape}\")\n",
    "print(f\"Copy (C): {Tensor.copy_tensor().shape}\\n\")\n",
    "print(f\"Phase-2: {Tensor.phase_tensor(1, ndim=2).shape}\")\n",
    "print(f\"Phase-3: {Tensor.phase_tensor(1, ndim=3).shape}\")\n",
    "print(f\"Phase-4: {Tensor.phase_tensor(1, ndim=4).shape}\")"
   ],
   "id": "6a10ab0e2bbd2f77",
   "outputs": [
    {
     "name": "stdout",
     "output_type": "stream",
     "text": [
      "Hadamard: (2, 2)\n",
      "Copy (C): (2, 2, 2)\n",
      "\n",
      "Phase-2: (4, 4)\n",
      "Phase-3: (1, 4, 4)\n",
      "Phase-4: (2, 2, 2, 2)\n"
     ]
    }
   ],
   "execution_count": 2
  },
  {
   "metadata": {
    "ExecuteTime": {
     "end_time": "2024-09-13T08:29:37.518265Z",
     "start_time": "2024-09-13T08:29:37.504958Z"
    }
   },
   "cell_type": "code",
   "source": [
    "t = Tensor.phase_tensor(0, ndim=4)\n",
    "t.array"
   ],
   "id": "71dc49bc19324f1d",
   "outputs": [
    {
     "data": {
      "text/plain": [
       "array([[[[1.        +0.j, 0.        +0.j],\n",
       "         [0.        +0.j, 0.        +0.j]],\n",
       "\n",
       "        [[0.        +0.j, 1.        +0.j],\n",
       "         [0.        +0.j, 0.        +0.j]]],\n",
       "\n",
       "\n",
       "       [[[0.        +0.j, 0.        +0.j],\n",
       "         [1.        +0.j, 0.        +0.j]],\n",
       "\n",
       "        [[0.        +0.j, 0.        +0.j],\n",
       "         [0.        +0.j, 2.71828183+0.j]]]])"
      ]
     },
     "execution_count": 3,
     "metadata": {},
     "output_type": "execute_result"
    }
   ],
   "execution_count": 3
  },
  {
   "metadata": {},
   "cell_type": "markdown",
   "source": "### Initializing object and adding PhaseMPO's one by one",
   "id": "3c1f1d0d90109df0"
  },
  {
   "metadata": {
    "ExecuteTime": {
     "end_time": "2024-09-13T08:29:38.249241Z",
     "start_time": "2024-09-13T08:29:38.232302Z"
    }
   },
   "cell_type": "code",
   "source": [
    "mpo = QFTMPO(6)\n",
    "mpo"
   ],
   "id": "9dab2e1e2568bb42",
   "outputs": [
    {
     "data": {
      "text/plain": [
       "s0: []\n",
       "s1: []\n",
       "s2: []\n",
       "s3: []\n",
       "s4: []\n",
       "s5: []"
      ]
     },
     "execution_count": 4,
     "metadata": {},
     "output_type": "execute_result"
    }
   ],
   "execution_count": 4
  },
  {
   "metadata": {
    "ExecuteTime": {
     "end_time": "2024-09-13T08:29:38.638564Z",
     "start_time": "2024-09-13T08:29:38.633208Z"
    }
   },
   "cell_type": "code",
   "source": "mpo.put_phase_mpo(0)",
   "id": "3c00df643942ad51",
   "outputs": [
    {
     "data": {
      "text/plain": [
       "s0: ['H', 'Copy']\n",
       "s1: ['P4(1.57)']\n",
       "s2: ['P4(0.79)']\n",
       "s3: ['P4(0.39)']\n",
       "s4: ['P4(0.20)']\n",
       "s5: ['P3(0.10)']"
      ]
     },
     "execution_count": 5,
     "metadata": {},
     "output_type": "execute_result"
    }
   ],
   "execution_count": 5
  },
  {
   "metadata": {
    "ExecuteTime": {
     "end_time": "2024-09-13T08:29:39.061079Z",
     "start_time": "2024-09-13T08:29:39.057763Z"
    }
   },
   "cell_type": "code",
   "source": "mpo.put_phase_mpo(1)",
   "id": "ec75d0e32c498b34",
   "outputs": [
    {
     "data": {
      "text/plain": [
       "s0: ['H', 'Copy']\n",
       "s1: ['P4(1.57)', 'H', 'Copy']\n",
       "s2: ['P4(0.79)', 'P4(1.57)']\n",
       "s3: ['P4(0.39)', 'P4(0.79)']\n",
       "s4: ['P4(0.20)', 'P4(0.39)']\n",
       "s5: ['P3(0.10)', 'P3(0.20)']"
      ]
     },
     "execution_count": 6,
     "metadata": {},
     "output_type": "execute_result"
    }
   ],
   "execution_count": 6
  },
  {
   "metadata": {},
   "cell_type": "markdown",
   "source": "### Demonstration of the zip_up() algorithm",
   "id": "a49cfae3ebaa3282"
  },
  {
   "metadata": {
    "ExecuteTime": {
     "end_time": "2024-09-13T08:29:39.982285Z",
     "start_time": "2024-09-13T08:29:39.978178Z"
    }
   },
   "cell_type": "code",
   "source": [
    "s = 1\n",
    "for i in range(len(mpo)-1, s-1, -1):\n",
    "    print(mpo.sites[i])\n",
    "    if i==s:\n",
    "        print(\"contracted, no SVD\")\n",
    "    else:\n",
    "        print(\"contracted and SVD\")\n",
    "    if i != s:\n",
    "        print(\"push the new U upwards\\n\")\n",
    "        mpo.sites[i-1].append(\"U\")\n",
    "    \n",
    "print(\"\\nStopped, beginning SVD downwards...\")"
   ],
   "id": "569245df0cbf3b0e",
   "outputs": [
    {
     "name": "stdout",
     "output_type": "stream",
     "text": [
      "[P3(0.10)(1, 4, 4), P3(0.20)(1, 4, 4)]\n",
      "contracted and SVD\n",
      "push the new U upwards\n",
      "\n",
      "[P4(0.20)(2, 2, 2, 2), P4(0.39)(2, 2, 2, 2), 'U']\n",
      "contracted and SVD\n",
      "push the new U upwards\n",
      "\n",
      "[P4(0.39)(2, 2, 2, 2), P4(0.79)(2, 2, 2, 2), 'U']\n",
      "contracted and SVD\n",
      "push the new U upwards\n",
      "\n",
      "[P4(0.79)(2, 2, 2, 2), P4(1.57)(2, 2, 2, 2), 'U']\n",
      "contracted and SVD\n",
      "push the new U upwards\n",
      "\n",
      "[P4(1.57)(2, 2, 2, 2), H(2, 2), Copy(2, 2, 2), 'U']\n",
      "contracted, no SVD\n",
      "\n",
      "Stopped, beginning SVD downwards...\n"
     ]
    }
   ],
   "execution_count": 7
  },
  {
   "metadata": {},
   "cell_type": "markdown",
   "source": "### Displaying full network (not productive)",
   "id": "2d0320510ca400ac"
  },
  {
   "metadata": {
    "ExecuteTime": {
     "end_time": "2024-09-13T08:29:40.895258Z",
     "start_time": "2024-09-13T08:29:40.889392Z"
    }
   },
   "cell_type": "code",
   "source": [
    "mpo = QFTMPO(6)\n",
    "mpo.initialize_qft()"
   ],
   "id": "b819ed56fe889733",
   "outputs": [
    {
     "data": {
      "text/plain": [
       "s0: ['H', 'Copy']\n",
       "s1: ['P4(1.57)', 'H', 'Copy']\n",
       "s2: ['P4(0.79)', 'P4(1.57)', 'H', 'Copy']\n",
       "s3: ['P4(0.39)', 'P4(0.79)', 'P4(1.57)', 'H', 'Copy']\n",
       "s4: ['P4(0.20)', 'P4(0.39)', 'P4(0.79)', 'P4(1.57)', 'H', 'Copy']\n",
       "s5: ['P3(0.10)', 'P3(0.20)', 'P3(0.39)', 'P3(0.79)', 'P3(1.57)', 'H']"
      ]
     },
     "execution_count": 8,
     "metadata": {},
     "output_type": "execute_result"
    }
   ],
   "execution_count": 8
  },
  {
   "metadata": {},
   "cell_type": "code",
   "outputs": [],
   "execution_count": null,
   "source": "",
   "id": "bbfd956841461b6b"
  }
 ],
 "metadata": {
  "kernelspec": {
   "display_name": "Python 3",
   "language": "python",
   "name": "python3"
  },
  "language_info": {
   "codemirror_mode": {
    "name": "ipython",
    "version": 2
   },
   "file_extension": ".py",
   "mimetype": "text/x-python",
   "name": "python",
   "nbconvert_exporter": "python",
   "pygments_lexer": "ipython2",
   "version": "2.7.6"
  }
 },
 "nbformat": 4,
 "nbformat_minor": 5
}
