{
 "cells": [
  {
   "cell_type": "code",
   "id": "initial_id",
   "metadata": {
    "collapsed": true,
    "ExecuteTime": {
     "end_time": "2024-09-16T02:24:39.844754Z",
     "start_time": "2024-09-16T02:24:39.782190Z"
    }
   },
   "source": [
    "import numpy as np\n",
    "\n",
    "from Tensor import Tensor\n",
    "from QFTMPO import QFTMPO\n",
    "from MatrixProductState import MPS\n",
    "from TensorNetwork import TensorNetwork"
   ],
   "outputs": [],
   "execution_count": 1
  },
  {
   "metadata": {},
   "cell_type": "markdown",
   "source": "### Tensors to be used",
   "id": "f0239947fcfdf826"
  },
  {
   "metadata": {
    "ExecuteTime": {
     "end_time": "2024-09-16T02:24:40.371805Z",
     "start_time": "2024-09-16T02:24:40.368577Z"
    }
   },
   "cell_type": "code",
   "source": [
    "print(f\"Hadamard: {Tensor.gate('H').shape}\")\n",
    "print(f\"Copy (C): {Tensor.copy_tensor().shape}\\n\")\n",
    "print(f\"Phase-2: {Tensor.phase_tensor(1, ndim=2).shape}\")\n",
    "print(f\"Phase-3: {Tensor.phase_tensor(1, ndim=3).shape}\")\n",
    "print(f\"Phase-4: {Tensor.phase_tensor(1, ndim=4).shape}\")"
   ],
   "id": "6a10ab0e2bbd2f77",
   "outputs": [
    {
     "name": "stdout",
     "output_type": "stream",
     "text": [
      "Hadamard: (2, 2)\n",
      "Copy (C): (2, 2, 2)\n",
      "\n",
      "Phase-2: (4, 4)\n",
      "Phase-3: (2, 2, 2)\n",
      "Phase-4: (2, 2, 2, 2)\n"
     ]
    }
   ],
   "execution_count": 2
  },
  {
   "metadata": {},
   "cell_type": "markdown",
   "source": "### Displaying full network (not productive)",
   "id": "2d0320510ca400ac"
  },
  {
   "metadata": {
    "ExecuteTime": {
     "end_time": "2024-09-16T02:24:48.428469Z",
     "start_time": "2024-09-16T02:24:48.423388Z"
    }
   },
   "cell_type": "code",
   "source": [
    "mpo = QFTMPO(6)\n",
    "mpo.display_qft()"
   ],
   "id": "b819ed56fe889733",
   "outputs": [
    {
     "name": "stdout",
     "output_type": "stream",
     "text": [
      "QFTMPO(6)\n",
      "--------------------\n",
      "s0: ['H', 'Copy']\n",
      "s1: ['P4(1.57)', 'H', 'Copy']\n",
      "s2: ['P4(0.79)', 'P4(1.57)', 'H', 'Copy']\n",
      "s3: ['P4(0.39)', 'P4(0.79)', 'P4(1.57)', 'H', 'Copy']\n",
      "s4: ['P4(0.20)', 'P4(0.39)', 'P4(0.79)', 'P4(1.57)', 'H', 'Copy']\n",
      "s5: ['P3(0.10)', 'P3(0.20)', 'P3(0.39)', 'P3(0.79)', 'P3(1.57)', 'H']\n",
      "\n"
     ]
    }
   ],
   "execution_count": 3
  },
  {
   "metadata": {},
   "cell_type": "markdown",
   "source": "### Initializing object and adding PhaseMPO's one by one",
   "id": "3c1f1d0d90109df0"
  },
  {
   "metadata": {
    "ExecuteTime": {
     "end_time": "2024-09-16T02:24:50.590812Z",
     "start_time": "2024-09-16T02:24:50.582902Z"
    }
   },
   "cell_type": "code",
   "source": [
    "mpo = QFTMPO(6)\n",
    "mpo"
   ],
   "id": "9dab2e1e2568bb42",
   "outputs": [
    {
     "data": {
      "text/plain": [
       "QFTMPO(6)\n",
       "--------------------\n",
       "s0: []\n",
       "s1: []\n",
       "s2: []\n",
       "s3: []\n",
       "s4: []\n",
       "s5: []"
      ]
     },
     "execution_count": 4,
     "metadata": {},
     "output_type": "execute_result"
    }
   ],
   "execution_count": 4
  },
  {
   "metadata": {
    "ExecuteTime": {
     "end_time": "2024-09-16T02:24:51.166298Z",
     "start_time": "2024-09-16T02:24:51.161763Z"
    }
   },
   "cell_type": "code",
   "source": "mpo.put_phase_mpo(0)",
   "id": "3c00df643942ad51",
   "outputs": [
    {
     "data": {
      "text/plain": [
       "QFTMPO(6)\n",
       "--------------------\n",
       "s0: ['H', 'Copy']\n",
       "s1: ['P4(1.57)']\n",
       "s2: ['P4(0.79)']\n",
       "s3: ['P4(0.39)']\n",
       "s4: ['P4(0.20)']\n",
       "s5: ['P3(0.10)']"
      ]
     },
     "execution_count": 5,
     "metadata": {},
     "output_type": "execute_result"
    }
   ],
   "execution_count": 5
  },
  {
   "metadata": {
    "ExecuteTime": {
     "end_time": "2024-09-16T02:24:51.934199Z",
     "start_time": "2024-09-16T02:24:51.929546Z"
    }
   },
   "cell_type": "code",
   "source": "mpo.put_phase_mpo(1)",
   "id": "ec75d0e32c498b34",
   "outputs": [
    {
     "data": {
      "text/plain": [
       "QFTMPO(6)\n",
       "--------------------\n",
       "s0: ['H', 'Copy']\n",
       "s1: ['P4(1.57)', 'H', 'Copy']\n",
       "s2: ['P4(0.79)', 'P4(1.57)']\n",
       "s3: ['P4(0.39)', 'P4(0.79)']\n",
       "s4: ['P4(0.20)', 'P4(0.39)']\n",
       "s5: ['P3(0.10)', 'P3(0.20)']"
      ]
     },
     "execution_count": 6,
     "metadata": {},
     "output_type": "execute_result"
    }
   ],
   "execution_count": 6
  },
  {
   "metadata": {},
   "cell_type": "markdown",
   "source": "### Zip-up Algorithm",
   "id": "a6e531f3b2d96b8a"
  },
  {
   "metadata": {
    "ExecuteTime": {
     "end_time": "2024-09-16T02:24:52.958478Z",
     "start_time": "2024-09-16T02:24:52.952289Z"
    }
   },
   "cell_type": "code",
   "source": [
    "mpo = QFTMPO(6)\n",
    "mpo"
   ],
   "id": "a55a0f675ed816d3",
   "outputs": [
    {
     "data": {
      "text/plain": [
       "QFTMPO(6)\n",
       "--------------------\n",
       "s0: []\n",
       "s1: []\n",
       "s2: []\n",
       "s3: []\n",
       "s4: []\n",
       "s5: []"
      ]
     },
     "execution_count": 7,
     "metadata": {},
     "output_type": "execute_result"
    }
   ],
   "execution_count": 7
  },
  {
   "metadata": {
    "ExecuteTime": {
     "end_time": "2024-09-16T02:24:55.662282Z",
     "start_time": "2024-09-16T02:24:55.652312Z"
    }
   },
   "cell_type": "code",
   "source": "mpo.zip_up()",
   "id": "aeacde29e1c4b656",
   "outputs": [
    {
     "data": {
      "text/plain": [
       "QFTMPO(6)\n",
       "--------------------\n",
       "s0: ['T3']\n",
       "s1: ['T4']\n",
       "s2: ['T4']\n",
       "s3: ['T4']\n",
       "s4: ['T4']\n",
       "s5: ['T3']"
      ]
     },
     "execution_count": 8,
     "metadata": {},
     "output_type": "execute_result"
    }
   ],
   "execution_count": 8
  },
  {
   "metadata": {
    "ExecuteTime": {
     "end_time": "2024-09-16T02:24:58.564753Z",
     "start_time": "2024-09-16T02:24:58.393650Z"
    }
   },
   "cell_type": "code",
   "source": [
    "mpo = QFTMPO(9)\n",
    "mpo.zip_up()"
   ],
   "id": "ae5a9c1b979f57ca",
   "outputs": [
    {
     "data": {
      "text/plain": [
       "QFTMPO(9)\n",
       "--------------------\n",
       "s0: ['T3']\n",
       "s1: ['T4']\n",
       "s2: ['T4']\n",
       "s3: ['T4']\n",
       "s4: ['T4']\n",
       "s5: ['T4']\n",
       "s6: ['T4']\n",
       "s7: ['T4']\n",
       "s8: ['T3']"
      ]
     },
     "execution_count": 9,
     "metadata": {},
     "output_type": "execute_result"
    }
   ],
   "execution_count": 9
  },
  {
   "metadata": {},
   "cell_type": "markdown",
   "source": "### MPO-MPS Multiplication",
   "id": "d84995361f759a99"
  },
  {
   "metadata": {
    "ExecuteTime": {
     "end_time": "2024-09-16T02:25:09.436037Z",
     "start_time": "2024-09-16T02:25:09.427733Z"
    }
   },
   "cell_type": "code",
   "source": [
    "mps = TensorNetwork.generate_entangled_circuit(7, .75)\n",
    "mps"
   ],
   "id": "ec7caf7f0914bc19",
   "outputs": [
    {
     "data": {
      "text/plain": [
       "MPS(7)\n",
       "---------------\n",
       "T0_(2, 2)\n",
       "T1_(2, 2, 4)\n",
       "T2_(4, 2, 2)\n",
       "T3_(2, 2, 4)\n",
       "T4_(4, 2, 2)\n",
       "T5_(2, 2, 1)\n",
       "T6_(1, 2)"
      ]
     },
     "execution_count": 10,
     "metadata": {},
     "output_type": "execute_result"
    }
   ],
   "execution_count": 10
  },
  {
   "metadata": {
    "ExecuteTime": {
     "end_time": "2024-09-16T02:25:11.370551Z",
     "start_time": "2024-09-16T02:25:11.354319Z"
    }
   },
   "cell_type": "code",
   "source": [
    "mpo = QFTMPO(7)\n",
    "mpo.zip_up()"
   ],
   "id": "77aaaa44cfeb104",
   "outputs": [
    {
     "data": {
      "text/plain": [
       "QFTMPO(7)\n",
       "--------------------\n",
       "s0: ['T3']\n",
       "s1: ['T4']\n",
       "s2: ['T4']\n",
       "s3: ['T4']\n",
       "s4: ['T4']\n",
       "s5: ['T4']\n",
       "s6: ['T3']"
      ]
     },
     "execution_count": 11,
     "metadata": {},
     "output_type": "execute_result"
    }
   ],
   "execution_count": 11
  },
  {
   "metadata": {
    "ExecuteTime": {
     "end_time": "2024-09-16T02:25:12.536389Z",
     "start_time": "2024-09-16T02:25:12.528736Z"
    }
   },
   "cell_type": "code",
   "source": "mpo(mps)",
   "id": "348abe9fd1578cca",
   "outputs": [
    {
     "data": {
      "text/plain": [
       "MPS(7)\n",
       "---------------\n",
       "T0_(2, 2)\n",
       "T1_(2, 2, 4)\n",
       "T2_(4, 2, 8)\n",
       "T3_(8, 2, 16)\n",
       "T4_(16, 2, 32)\n",
       "T5_(32, 2, 4)\n",
       "T6_(4, 2)"
      ]
     },
     "execution_count": 12,
     "metadata": {},
     "output_type": "execute_result"
    }
   ],
   "execution_count": 12
  },
  {
   "metadata": {
    "ExecuteTime": {
     "end_time": "2024-09-16T02:25:14.099750Z",
     "start_time": "2024-09-16T02:25:14.094516Z"
    }
   },
   "cell_type": "code",
   "source": "mps.retrieve_amplitude_of(\"0000000\")",
   "id": "cf5862738c54beba",
   "outputs": [
    {
     "data": {
      "text/plain": [
       "(-0.04858716612893761-0.19133190532666136j)"
      ]
     },
     "execution_count": 13,
     "metadata": {},
     "output_type": "execute_result"
    }
   ],
   "execution_count": 13
  },
  {
   "metadata": {
    "ExecuteTime": {
     "end_time": "2024-09-16T02:25:14.861679Z",
     "start_time": "2024-09-16T02:25:14.848662Z"
    }
   },
   "cell_type": "code",
   "source": "mpo(mps, bond_dim=1)",
   "id": "eb2ffe7240a75b23",
   "outputs": [
    {
     "data": {
      "text/plain": [
       "MPS(7)\n",
       "---------------\n",
       "T0_(2, 1)\n",
       "T1_(1, 2, 1)\n",
       "T2_(1, 2, 1)\n",
       "T3_(1, 2, 1)\n",
       "T4_(1, 2, 1)\n",
       "T5_(1, 2, 1)\n",
       "T6_(1, 2)"
      ]
     },
     "execution_count": 14,
     "metadata": {},
     "output_type": "execute_result"
    }
   ],
   "execution_count": 14
  },
  {
   "metadata": {},
   "cell_type": "code",
   "outputs": [],
   "execution_count": null,
   "source": "",
   "id": "c380fd3d23f59b79"
  }
 ],
 "metadata": {
  "kernelspec": {
   "display_name": "Python 3",
   "language": "python",
   "name": "python3"
  },
  "language_info": {
   "codemirror_mode": {
    "name": "ipython",
    "version": 2
   },
   "file_extension": ".py",
   "mimetype": "text/x-python",
   "name": "python",
   "nbconvert_exporter": "python",
   "pygments_lexer": "ipython2",
   "version": "2.7.6"
  }
 },
 "nbformat": 4,
 "nbformat_minor": 5
}
