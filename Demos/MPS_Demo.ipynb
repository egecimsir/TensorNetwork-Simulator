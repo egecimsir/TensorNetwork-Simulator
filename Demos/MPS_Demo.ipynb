{
 "cells": [
  {
   "cell_type": "code",
   "id": "initial_id",
   "metadata": {
    "collapsed": true,
    "ExecuteTime": {
     "end_time": "2024-08-21T08:21:00.903273Z",
     "start_time": "2024-08-21T08:21:00.740598Z"
    }
   },
   "source": [
    "import numpy as np\n",
    "from MatrixProductState import MPS"
   ],
   "outputs": [],
   "execution_count": 1
  },
  {
   "metadata": {
    "ExecuteTime": {
     "end_time": "2024-08-21T08:21:01.232268Z",
     "start_time": "2024-08-21T08:21:01.228801Z"
    }
   },
   "cell_type": "code",
   "source": [
    "mps = MPS(5)\n",
    "\n",
    "print(mps)\n",
    "print(\"Amplitude |00000> :\", mps.retrieve_amplitude_of(\"00000\"))\n",
    "print(\"Amplitude |10010> :\", mps.retrieve_amplitude_of(\"10010\"))"
   ],
   "id": "31492e9d947db192",
   "outputs": [
    {
     "name": "stdout",
     "output_type": "stream",
     "text": [
      "MPS(5)\n",
      "---------------\n",
      "T0_(2, 1)\n",
      "T1_(1, 2, 1)\n",
      "T2_(1, 2, 1)\n",
      "T3_(1, 2, 1)\n",
      "T4_(1, 2)\n",
      "\n",
      "Amplitude |00000> : (1+0j)\n",
      "Amplitude |10010> : 0j\n"
     ]
    }
   ],
   "execution_count": 2
  },
  {
   "metadata": {},
   "cell_type": "code",
   "outputs": [],
   "execution_count": null,
   "source": "",
   "id": "1edd2f02ff877d95"
  }
 ],
 "metadata": {
  "kernelspec": {
   "display_name": "Python 3",
   "language": "python",
   "name": "python3"
  },
  "language_info": {
   "codemirror_mode": {
    "name": "ipython",
    "version": 2
   },
   "file_extension": ".py",
   "mimetype": "text/x-python",
   "name": "python",
   "nbconvert_exporter": "python",
   "pygments_lexer": "ipython2",
   "version": "2.7.6"
  }
 },
 "nbformat": 4,
 "nbformat_minor": 5
}
