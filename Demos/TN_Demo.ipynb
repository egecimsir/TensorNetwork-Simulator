{
 "cells": [
  {
   "cell_type": "code",
   "id": "initial_id",
   "metadata": {
    "collapsed": true,
    "ExecuteTime": {
     "end_time": "2024-08-17T23:01:29.075187Z",
     "start_time": "2024-08-17T23:01:29.001506Z"
    }
   },
   "source": [
    "import numpy as np\n",
    "from TensorNetwork import TensorNetwork"
   ],
   "outputs": [],
   "execution_count": 1
  },
  {
   "metadata": {},
   "cell_type": "markdown",
   "source": "## Initialization",
   "id": "cbd0214f35f10c4d"
  },
  {
   "metadata": {
    "ExecuteTime": {
     "end_time": "2024-08-17T23:01:34.792127Z",
     "start_time": "2024-08-17T23:01:34.784196Z"
    }
   },
   "cell_type": "code",
   "source": [
    "qc = TensorNetwork(5, \"10100\")\n",
    "qc"
   ],
   "id": "da95955f6f250b4d",
   "outputs": [
    {
     "data": {
      "text/plain": [
       "TensorNetwork(5)\n",
       "---------------\n",
       "T0_(2, 1)\n",
       "T1_(1, 2, 1)\n",
       "T2_(1, 2, 1)\n",
       "T3_(1, 2, 1)\n",
       "T4_(1, 2)"
      ]
     },
     "execution_count": 2,
     "metadata": {},
     "output_type": "execute_result"
    }
   ],
   "execution_count": 2
  },
  {
   "metadata": {},
   "cell_type": "markdown",
   "source": "## SWAPs",
   "id": "759cac310fcef0ef"
  },
  {
   "metadata": {
    "ExecuteTime": {
     "end_time": "2024-08-17T23:02:22.397281Z",
     "start_time": "2024-08-17T23:02:22.381563Z"
    }
   },
   "cell_type": "code",
   "source": "qc.swap(0, 1).swap(1, 2).swap(2, 3).swap(3, 4)",
   "id": "6f431da258a466f6",
   "outputs": [
    {
     "data": {
      "text/plain": [
       "TensorNetwork(5)\n",
       "---------------\n",
       "T0_(2, 2)\n",
       "T1_(2, 2, 2)\n",
       "T2_(2, 2, 2)\n",
       "T3_(2, 2, 2)\n",
       "T4_(2, 2)"
      ]
     },
     "execution_count": 3,
     "metadata": {},
     "output_type": "execute_result"
    }
   ],
   "execution_count": 3
  },
  {
   "metadata": {
    "ExecuteTime": {
     "end_time": "2024-08-17T23:02:33.770417Z",
     "start_time": "2024-08-17T23:02:33.765929Z"
    }
   },
   "cell_type": "code",
   "source": "qc.retrieve_amplitude_of(\"01001\")",
   "id": "f42158e362762f7b",
   "outputs": [
    {
     "data": {
      "text/plain": [
       "(1+0j)"
      ]
     },
     "execution_count": 4,
     "metadata": {},
     "output_type": "execute_result"
    }
   ],
   "execution_count": 4
  },
  {
   "metadata": {
    "ExecuteTime": {
     "end_time": "2024-08-17T23:02:46.689063Z",
     "start_time": "2024-08-17T23:02:46.683899Z"
    }
   },
   "cell_type": "code",
   "source": "qc.retrieve_amplitude_of(\"10100\")",
   "id": "67f2571b34f0f346",
   "outputs": [
    {
     "data": {
      "text/plain": [
       "0j"
      ]
     },
     "execution_count": 5,
     "metadata": {},
     "output_type": "execute_result"
    }
   ],
   "execution_count": 5
  },
  {
   "metadata": {
    "ExecuteTime": {
     "end_time": "2024-08-17T23:03:00.427191Z",
     "start_time": "2024-08-17T23:03:00.418999Z"
    }
   },
   "cell_type": "code",
   "source": [
    "qc = TensorNetwork(5, \"10100\")\n",
    "\n",
    "qc.swap(0, 1, bond_dim=1).swap(1, 2, bond_dim=1).swap(2, 3, bond_dim=1).swap(3, 4, bond_dim=1)"
   ],
   "id": "c2552cb730cf93bc",
   "outputs": [
    {
     "data": {
      "text/plain": [
       "TensorNetwork(5)\n",
       "---------------\n",
       "T0_(2, 1)\n",
       "T1_(1, 2, 1)\n",
       "T2_(1, 2, 1)\n",
       "T3_(1, 2, 1)\n",
       "T4_(1, 2)"
      ]
     },
     "execution_count": 6,
     "metadata": {},
     "output_type": "execute_result"
    }
   ],
   "execution_count": 6
  },
  {
   "metadata": {
    "ExecuteTime": {
     "end_time": "2024-08-17T23:03:17.712208Z",
     "start_time": "2024-08-17T23:03:17.707188Z"
    }
   },
   "cell_type": "code",
   "source": "qc.retrieve_amplitude_of(\"01001\")",
   "id": "2a43a046086b136b",
   "outputs": [
    {
     "data": {
      "text/plain": [
       "(1+0j)"
      ]
     },
     "execution_count": 7,
     "metadata": {},
     "output_type": "execute_result"
    }
   ],
   "execution_count": 7
  },
  {
   "metadata": {
    "ExecuteTime": {
     "end_time": "2024-08-17T23:03:27.891413Z",
     "start_time": "2024-08-17T23:03:27.885507Z"
    }
   },
   "cell_type": "code",
   "source": "qc.retrieve_amplitude_of(\"10100\")",
   "id": "df15df61b877128a",
   "outputs": [
    {
     "data": {
      "text/plain": [
       "0j"
      ]
     },
     "execution_count": 8,
     "metadata": {},
     "output_type": "execute_result"
    }
   ],
   "execution_count": 8
  },
  {
   "metadata": {},
   "cell_type": "markdown",
   "source": "## Hadamard",
   "id": "d9f740f4c57662bd"
  },
  {
   "metadata": {
    "ExecuteTime": {
     "end_time": "2024-08-17T23:03:36.398791Z",
     "start_time": "2024-08-17T23:03:36.393291Z"
    }
   },
   "cell_type": "code",
   "source": [
    "qc = TensorNetwork(3)\n",
    "qc.hadamard(0)\n",
    "\n",
    "qc.retrieve_amplitude_of(\"100\")"
   ],
   "id": "b508c1c1b9906ef",
   "outputs": [
    {
     "data": {
      "text/plain": [
       "(0.7071067811865475+0j)"
      ]
     },
     "execution_count": 9,
     "metadata": {},
     "output_type": "execute_result"
    }
   ],
   "execution_count": 9
  },
  {
   "metadata": {
    "ExecuteTime": {
     "end_time": "2024-08-17T23:03:48.171271Z",
     "start_time": "2024-08-17T23:03:48.167198Z"
    }
   },
   "cell_type": "code",
   "source": "qc.retrieve_amplitude_of(\"000\")",
   "id": "8a98de793683c5a3",
   "outputs": [
    {
     "data": {
      "text/plain": [
       "(0.7071067811865475+0j)"
      ]
     },
     "execution_count": 10,
     "metadata": {},
     "output_type": "execute_result"
    }
   ],
   "execution_count": 10
  },
  {
   "metadata": {
    "ExecuteTime": {
     "end_time": "2024-08-17T23:03:58.363620Z",
     "start_time": "2024-08-17T23:03:58.359416Z"
    }
   },
   "cell_type": "code",
   "source": "qc.retrieve_amplitude_of(\"010\")",
   "id": "e847ac50373f7066",
   "outputs": [
    {
     "data": {
      "text/plain": [
       "0j"
      ]
     },
     "execution_count": 11,
     "metadata": {},
     "output_type": "execute_result"
    }
   ],
   "execution_count": 11
  },
  {
   "metadata": {},
   "cell_type": "code",
   "outputs": [],
   "execution_count": null,
   "source": "",
   "id": "fd2c91b24b5605e7"
  }
 ],
 "metadata": {
  "kernelspec": {
   "display_name": "Python 3",
   "language": "python",
   "name": "python3"
  },
  "language_info": {
   "codemirror_mode": {
    "name": "ipython",
    "version": 2
   },
   "file_extension": ".py",
   "mimetype": "text/x-python",
   "name": "python",
   "nbconvert_exporter": "python",
   "pygments_lexer": "ipython2",
   "version": "2.7.6"
  }
 },
 "nbformat": 4,
 "nbformat_minor": 5
}
