{
 "cells": [
  {
   "cell_type": "code",
   "id": "initial_id",
   "metadata": {
    "collapsed": true,
    "ExecuteTime": {
     "end_time": "2024-09-14T01:28:01.940649Z",
     "start_time": "2024-09-14T01:28:01.855023Z"
    }
   },
   "source": [
    "import numpy as np\n",
    "from TensorNetwork import TensorNetwork"
   ],
   "outputs": [],
   "execution_count": 1
  },
  {
   "metadata": {},
   "cell_type": "markdown",
   "source": "## Initialization",
   "id": "cbd0214f35f10c4d"
  },
  {
   "metadata": {
    "ExecuteTime": {
     "end_time": "2024-09-14T01:28:02.942372Z",
     "start_time": "2024-09-14T01:28:02.936821Z"
    }
   },
   "cell_type": "code",
   "source": [
    "qc = TensorNetwork(5, \"10100\")\n",
    "qc"
   ],
   "id": "da95955f6f250b4d",
   "outputs": [
    {
     "data": {
      "text/plain": [
       "TensorNetwork(5)\n",
       "---------------\n",
       "T0_(2, 1)\n",
       "T1_(1, 2, 1)\n",
       "T2_(1, 2, 1)\n",
       "T3_(1, 2, 1)\n",
       "T4_(1, 2)"
      ]
     },
     "execution_count": 2,
     "metadata": {},
     "output_type": "execute_result"
    }
   ],
   "execution_count": 2
  },
  {
   "metadata": {},
   "cell_type": "markdown",
   "source": "## SWAPs",
   "id": "759cac310fcef0ef"
  },
  {
   "metadata": {
    "ExecuteTime": {
     "end_time": "2024-09-14T01:28:04.185783Z",
     "start_time": "2024-09-14T01:28:04.178422Z"
    }
   },
   "cell_type": "code",
   "source": "qc.swap(0, 1).swap(1, 2).swap(2, 3).swap(3, 4)",
   "id": "6f431da258a466f6",
   "outputs": [
    {
     "data": {
      "text/plain": [
       "TensorNetwork(5)\n",
       "---------------\n",
       "T0_(2, 2)\n",
       "T1_(2, 2, 2)\n",
       "T2_(2, 2, 2)\n",
       "T3_(2, 2, 2)\n",
       "T4_(2, 2)"
      ]
     },
     "execution_count": 3,
     "metadata": {},
     "output_type": "execute_result"
    }
   ],
   "execution_count": 3
  },
  {
   "metadata": {
    "ExecuteTime": {
     "end_time": "2024-09-14T01:28:04.782878Z",
     "start_time": "2024-09-14T01:28:04.778189Z"
    }
   },
   "cell_type": "code",
   "source": "qc.retrieve_amplitude_of(\"01001\")",
   "id": "f42158e362762f7b",
   "outputs": [
    {
     "data": {
      "text/plain": [
       "(1+0j)"
      ]
     },
     "execution_count": 4,
     "metadata": {},
     "output_type": "execute_result"
    }
   ],
   "execution_count": 4
  },
  {
   "metadata": {
    "ExecuteTime": {
     "end_time": "2024-09-14T01:28:05.347097Z",
     "start_time": "2024-09-14T01:28:05.342211Z"
    }
   },
   "cell_type": "code",
   "source": "qc.retrieve_amplitude_of(\"10100\")",
   "id": "67f2571b34f0f346",
   "outputs": [
    {
     "data": {
      "text/plain": [
       "0j"
      ]
     },
     "execution_count": 5,
     "metadata": {},
     "output_type": "execute_result"
    }
   ],
   "execution_count": 5
  },
  {
   "metadata": {
    "ExecuteTime": {
     "end_time": "2024-09-14T01:28:05.926987Z",
     "start_time": "2024-09-14T01:28:05.920890Z"
    }
   },
   "cell_type": "code",
   "source": [
    "qc = TensorNetwork(5, \"10100\")\n",
    "\n",
    "qc.swap(0, 1, bond_dim=1).swap(1, 2, bond_dim=1).swap(2, 3, bond_dim=1).swap(3, 4, bond_dim=1)"
   ],
   "id": "c2552cb730cf93bc",
   "outputs": [
    {
     "data": {
      "text/plain": [
       "TensorNetwork(5)\n",
       "---------------\n",
       "T0_(2, 1)\n",
       "T1_(1, 2, 1)\n",
       "T2_(1, 2, 1)\n",
       "T3_(1, 2, 1)\n",
       "T4_(1, 2)"
      ]
     },
     "execution_count": 6,
     "metadata": {},
     "output_type": "execute_result"
    }
   ],
   "execution_count": 6
  },
  {
   "metadata": {
    "ExecuteTime": {
     "end_time": "2024-09-14T01:28:06.748932Z",
     "start_time": "2024-09-14T01:28:06.744350Z"
    }
   },
   "cell_type": "code",
   "source": "qc.retrieve_amplitude_of(\"01001\")",
   "id": "2a43a046086b136b",
   "outputs": [
    {
     "data": {
      "text/plain": [
       "(1+0j)"
      ]
     },
     "execution_count": 7,
     "metadata": {},
     "output_type": "execute_result"
    }
   ],
   "execution_count": 7
  },
  {
   "metadata": {
    "ExecuteTime": {
     "end_time": "2024-09-14T01:28:07.321568Z",
     "start_time": "2024-09-14T01:28:07.317565Z"
    }
   },
   "cell_type": "code",
   "source": "qc.retrieve_amplitude_of(\"10100\")",
   "id": "df15df61b877128a",
   "outputs": [
    {
     "data": {
      "text/plain": [
       "0j"
      ]
     },
     "execution_count": 8,
     "metadata": {},
     "output_type": "execute_result"
    }
   ],
   "execution_count": 8
  },
  {
   "metadata": {},
   "cell_type": "markdown",
   "source": "## Hadamard",
   "id": "d9f740f4c57662bd"
  },
  {
   "metadata": {
    "ExecuteTime": {
     "end_time": "2024-09-14T01:28:08.609274Z",
     "start_time": "2024-09-14T01:28:08.604060Z"
    }
   },
   "cell_type": "code",
   "source": [
    "qc = TensorNetwork(3)\n",
    "qc.hadamard(0)\n",
    "\n",
    "qc.retrieve_amplitude_of(\"100\")"
   ],
   "id": "b508c1c1b9906ef",
   "outputs": [
    {
     "data": {
      "text/plain": [
       "(0.7071067811865475+0j)"
      ]
     },
     "execution_count": 9,
     "metadata": {},
     "output_type": "execute_result"
    }
   ],
   "execution_count": 9
  },
  {
   "metadata": {
    "ExecuteTime": {
     "end_time": "2024-09-14T01:28:09.424576Z",
     "start_time": "2024-09-14T01:28:09.419756Z"
    }
   },
   "cell_type": "code",
   "source": "qc.retrieve_amplitude_of(\"000\")",
   "id": "8a98de793683c5a3",
   "outputs": [
    {
     "data": {
      "text/plain": [
       "(0.7071067811865475+0j)"
      ]
     },
     "execution_count": 10,
     "metadata": {},
     "output_type": "execute_result"
    }
   ],
   "execution_count": 10
  },
  {
   "metadata": {
    "ExecuteTime": {
     "end_time": "2024-09-14T01:28:10.472934Z",
     "start_time": "2024-09-14T01:28:10.465443Z"
    }
   },
   "cell_type": "code",
   "source": "qc.retrieve_amplitude_of(\"010\")",
   "id": "e847ac50373f7066",
   "outputs": [
    {
     "data": {
      "text/plain": [
       "0j"
      ]
     },
     "execution_count": 11,
     "metadata": {},
     "output_type": "execute_result"
    }
   ],
   "execution_count": 11
  },
  {
   "metadata": {},
   "cell_type": "markdown",
   "source": "## QFT Tensor Network",
   "id": "5e7f1264820b5c1e"
  },
  {
   "metadata": {
    "ExecuteTime": {
     "end_time": "2024-09-14T01:28:12.212821Z",
     "start_time": "2024-09-14T01:28:12.205736Z"
    }
   },
   "cell_type": "code",
   "source": "qft = TensorNetwork.QFT(\"00000\")",
   "id": "88cab725501b258",
   "outputs": [],
   "execution_count": 12
  },
  {
   "metadata": {
    "ExecuteTime": {
     "end_time": "2024-09-14T01:28:12.939590Z",
     "start_time": "2024-09-14T01:28:12.920890Z"
    }
   },
   "cell_type": "code",
   "source": "qft.retrieve_amplitude_of(\"00000\")",
   "id": "e7f6ea88a73ff8b7",
   "outputs": [
    {
     "data": {
      "text/plain": [
       "(-0.1767766952966362-2.7236762475328894e-34j)"
      ]
     },
     "execution_count": 13,
     "metadata": {},
     "output_type": "execute_result"
    }
   ],
   "execution_count": 13
  },
  {
   "metadata": {
    "ExecuteTime": {
     "end_time": "2024-09-14T01:28:13.819309Z",
     "start_time": "2024-09-14T01:28:13.814165Z"
    }
   },
   "cell_type": "code",
   "source": "qft.retrieve_amplitude_of(\"11111\")",
   "id": "f5700eb669b17b91",
   "outputs": [
    {
     "data": {
      "text/plain": [
       "(-0.017327146149886313-0.17592546719079716j)"
      ]
     },
     "execution_count": 14,
     "metadata": {},
     "output_type": "execute_result"
    }
   ],
   "execution_count": 14
  },
  {
   "metadata": {
    "ExecuteTime": {
     "end_time": "2024-09-14T01:28:14.253601Z",
     "start_time": "2024-09-14T01:28:14.247369Z"
    }
   },
   "cell_type": "code",
   "source": [
    "print(f\"# Operations: {qft.ops_applied}\\n\")\n",
    "print(\"Operations: \")\n",
    "qft.ops_log"
   ],
   "id": "6aa2fdf97c3c5a1c",
   "outputs": [
    {
     "name": "stdout",
     "output_type": "stream",
     "text": [
      "# Operations: 35\n",
      "\n",
      "Operations: \n"
     ]
    },
    {
     "data": {
      "text/plain": [
       "[('H', 0, None),\n",
       " ('CRZ(1.57)', 0, 1, 1.5707963267948966, None),\n",
       " ('SWAP', 1, 2, None, None),\n",
       " ('CRZ(0.79)', 0, 1, 0.7853981633974483, None),\n",
       " ('SWAP', 1, 2, None, None),\n",
       " ('SWAP', 2, 3, None, None),\n",
       " ('SWAP', 1, 2, None, None),\n",
       " ('CRZ(0.39)', 0, 1, 0.39269908169872414, None),\n",
       " ('SWAP', 1, 2, None, None),\n",
       " ('SWAP', 2, 3, None, None),\n",
       " ('SWAP', 3, 4, None, None),\n",
       " ('SWAP', 2, 3, None, None),\n",
       " ('SWAP', 1, 2, None, None),\n",
       " ('CRZ(0.20)', 0, 1, 0.19634954084936207, None),\n",
       " ('SWAP', 1, 2, None, None),\n",
       " ('SWAP', 2, 3, None, None),\n",
       " ('SWAP', 3, 4, None, None),\n",
       " ('H', 1, None),\n",
       " ('CRZ(1.57)', 1, 2, 1.5707963267948966, None),\n",
       " ('SWAP', 2, 3, None, None),\n",
       " ('CRZ(0.79)', 1, 2, 0.7853981633974483, None),\n",
       " ('SWAP', 2, 3, None, None),\n",
       " ('SWAP', 3, 4, None, None),\n",
       " ('SWAP', 2, 3, None, None),\n",
       " ('CRZ(0.39)', 1, 2, 0.39269908169872414, None),\n",
       " ('SWAP', 2, 3, None, None),\n",
       " ('SWAP', 3, 4, None, None),\n",
       " ('H', 2, None),\n",
       " ('CRZ(1.57)', 2, 3, 1.5707963267948966, None),\n",
       " ('SWAP', 3, 4, None, None),\n",
       " ('CRZ(0.79)', 2, 3, 0.7853981633974483, None),\n",
       " ('SWAP', 3, 4, None, None),\n",
       " ('H', 3, None),\n",
       " ('CRZ(1.57)', 3, 4, 1.5707963267948966, None),\n",
       " ('H', 4, None)]"
      ]
     },
     "execution_count": 15,
     "metadata": {},
     "output_type": "execute_result"
    }
   ],
   "execution_count": 15
  },
  {
   "metadata": {},
   "cell_type": "code",
   "outputs": [],
   "execution_count": null,
   "source": "",
   "id": "644e23edd2ee9254"
  }
 ],
 "metadata": {
  "kernelspec": {
   "display_name": "Python 3",
   "language": "python",
   "name": "python3"
  },
  "language_info": {
   "codemirror_mode": {
    "name": "ipython",
    "version": 2
   },
   "file_extension": ".py",
   "mimetype": "text/x-python",
   "name": "python",
   "nbconvert_exporter": "python",
   "pygments_lexer": "ipython2",
   "version": "2.7.6"
  }
 },
 "nbformat": 4,
 "nbformat_minor": 5
}
